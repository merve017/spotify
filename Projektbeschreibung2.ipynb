{
 "cells": [
  {
   "attachments": {},
   "cell_type": "markdown",
   "metadata": {},
   "source": [
    "# Projektvorstellung \"Music Recommendation\" und Präsentation der ersten Ergebnisse"
   ]
  },
  {
   "attachments": {},
   "cell_type": "markdown",
   "metadata": {},
   "source": [
    "## Aufgabenstellung:\n",
    "\n",
    "Music Recommendation\n",
    "- By playing (=selecting) one (or multiple songs), recommend a list of songs users most likely would want to hear next.\n",
    "-  Based on various spotify datasets:\n",
    "    - https://research.atspotify.com/datasets/\n",
    "    - https://developer.spotify.com/documentation/web-api/ – https://genius.com/\n",
    "- Data:\n",
    "    - List of songs, artists, album with track information – In addition Audio Features, Lyrics\n",
    "    - Format:CSV\n",
    "    - ~800 MB"
   ]
  },
  {
   "attachments": {},
   "cell_type": "markdown",
   "metadata": {},
   "source": [
    "## Gruppenmitglieder\n",
    "\n",
    "Erlacher Felix\n",
    "Taskaya Merve\n",
    "Wlodarski Tomasz \n",
    "\n",
    "## Dokumentation\n",
    "\n",
    "Die Dokumentation wurde in Github durchgeführt. https://github.com/merve017/spotify.git \n",
    "\n",
    "## Datenquellen\n",
    "\n",
    "- CSV Format\n",
    "- 5 datasets: Tracks, Artist, Album, Lyrics, Audio Features"
   ]
  },
  {
   "attachments": {},
   "cell_type": "markdown",
   "metadata": {},
   "source": [
    "## Datenanalyse"
   ]
  },
  {
   "attachments": {},
   "cell_type": "markdown",
   "metadata": {},
   "source": [
    "Aufgabenstellung lt. Folie \n",
    "\n",
    "Analyse:\n",
    "\n",
    "▪ Vorstellung Daten-Analyse und EDA (z.b. Jupyter) – Ergebnisse der Recherche:\n",
    "▪ Auswahlmöglichkeiten der Modelle soll präsentiert werden, mit kurzer Erläuterung, wie es zu der Entscheidung gekommen ist und woran es scheitern könnte.\n",
    "▪ Ausgewählte Modelle fließen dann in Py5 Abgabe ein"
   ]
  },
  {
   "cell_type": "code",
   "execution_count": 1,
   "metadata": {},
   "outputs": [],
   "source": [
    "# Used libraries \n",
    "import pandas as pd\n",
    "import os\n",
    "import numpy as np\n",
    "import pandas as pd\n",
    "\n",
    "import seaborn as sns\n",
    "import plotly.express as px \n",
    "import matplotlib.pyplot as plt\n",
    "%matplotlib inline\n",
    "\n",
    "from sklearn.cluster import KMeans\n",
    "from sklearn.preprocessing import StandardScaler\n",
    "from sklearn.pipeline import Pipeline\n",
    "from sklearn.manifold import TSNE\n",
    "from sklearn.decomposition import PCA\n",
    "from sklearn.metrics import euclidean_distances\n",
    "from scipy.spatial.distance import cdist\n",
    "\n",
    "import warnings\n",
    "warnings.filterwarnings(\"ignore\")\n",
    "\n",
    "import spotipy\n",
    "from spotipy.oauth2 import SpotifyClientCredentials\n",
    "from collections import defaultdict"
   ]
  },
  {
   "cell_type": "code",
   "execution_count": 2,
   "metadata": {},
   "outputs": [],
   "source": [
    "# read csv files\n",
    "df_tracks = pd.read_csv('data/spotify_tracks.csv', sep=',')\n",
    "df_artists = pd.read_csv('data/spotify_artists.csv', sep=',')\n",
    "df_albums = pd.read_csv('data/spotify_albums.csv', sep=',')\n",
    "df_lyrics = pd.read_csv('data/lyrics_features.csv', sep=',')\n",
    "df_audio = pd.read_csv('data/low_level_audio_features.csv', sep=',')"
   ]
  },
  {
   "cell_type": "code",
   "execution_count": 24,
   "metadata": {},
   "outputs": [
    {
     "name": "stdout",
     "output_type": "stream",
     "text": [
      "<class 'pandas.core.frame.DataFrame'>\n",
      "RangeIndex: 101939 entries, 0 to 101938\n",
      "Data columns (total 32 columns):\n",
      " #   Column             Non-Null Count   Dtype  \n",
      "---  ------             --------------   -----  \n",
      " 0   Unnamed: 0         101939 non-null  int64  \n",
      " 1   acousticness       101939 non-null  float64\n",
      " 2   album_id           101939 non-null  object \n",
      " 3   analysis_url       101939 non-null  object \n",
      " 4   artists_id         101939 non-null  object \n",
      " 5   available_markets  101939 non-null  object \n",
      " 6   country            101939 non-null  object \n",
      " 7   danceability       101939 non-null  float64\n",
      " 8   disc_number        101939 non-null  float64\n",
      " 9   duration_ms        101939 non-null  float64\n",
      " 10  energy             101939 non-null  float64\n",
      " 11  href               101939 non-null  object \n",
      " 12  id                 101939 non-null  object \n",
      " 13  instrumentalness   101939 non-null  float64\n",
      " 14  key                101939 non-null  float64\n",
      " 15  liveness           101939 non-null  float64\n",
      " 16  loudness           101939 non-null  float64\n",
      " 17  lyrics             101939 non-null  object \n",
      " 18  mode               101939 non-null  float64\n",
      " 19  name               101939 non-null  object \n",
      " 20  playlist           101939 non-null  object \n",
      " 21  popularity         101939 non-null  float64\n",
      " 22  preview_url        101939 non-null  object \n",
      " 23  speechiness        101939 non-null  float64\n",
      " 24  tempo              101939 non-null  float64\n",
      " 25  time_signature     101939 non-null  float64\n",
      " 26  track_href         101939 non-null  object \n",
      " 27  track_name_prev    101939 non-null  object \n",
      " 28  track_number       101939 non-null  float64\n",
      " 29  uri                101939 non-null  object \n",
      " 30  valence            101939 non-null  float64\n",
      " 31  type               101939 non-null  object \n",
      "dtypes: float64(16), int64(1), object(15)\n",
      "memory usage: 24.9+ MB\n",
      "None\n"
     ]
    },
    {
     "data": {
      "text/plain": [
       "0    5qljLQuKnNJf4F4vfxQB0V\n",
       "1    3VAX2MJdmdqARLSU5hPMpm\n",
       "2    1L3YAhsEMrGVvCgDXj2TYn\n",
       "3    6aCe9zzoZmCojX7bbgKKtf\n",
       "4    1Vo802A38tPFHmje1h91um\n",
       "Name: id, dtype: object"
      ]
     },
     "execution_count": 24,
     "metadata": {},
     "output_type": "execute_result"
    }
   ],
   "source": [
    "# show first 5 rows\n",
    "print(df_tracks.info())\n",
    "df_tracks['id'].head()"
   ]
  },
  {
   "cell_type": "code",
   "execution_count": 14,
   "metadata": {},
   "outputs": [
    {
     "name": "stdout",
     "output_type": "stream",
     "text": [
      "<class 'pandas.core.frame.DataFrame'>\n",
      "RangeIndex: 75511 entries, 0 to 75510\n",
      "Data columns (total 16 columns):\n",
      " #   Column                  Non-Null Count  Dtype \n",
      "---  ------                  --------------  ----- \n",
      " 0   Unnamed: 0              75511 non-null  int64 \n",
      " 1   album_type              75511 non-null  object\n",
      " 2   artist_id               75511 non-null  object\n",
      " 3   available_markets       75511 non-null  object\n",
      " 4   external_urls           75511 non-null  object\n",
      " 5   href                    75511 non-null  object\n",
      " 6   id                      75511 non-null  object\n",
      " 7   images                  75511 non-null  object\n",
      " 8   name                    75511 non-null  object\n",
      " 9   release_date            75511 non-null  object\n",
      " 10  release_date_precision  75511 non-null  object\n",
      " 11  total_tracks            75511 non-null  int64 \n",
      " 12  track_id                75511 non-null  object\n",
      " 13  track_name_prev         75511 non-null  object\n",
      " 14  uri                     75511 non-null  object\n",
      " 15  type                    75511 non-null  object\n",
      "dtypes: int64(2), object(14)\n",
      "memory usage: 9.2+ MB\n",
      "None\n"
     ]
    },
    {
     "data": {
      "text/html": [
       "<div>\n",
       "<style scoped>\n",
       "    .dataframe tbody tr th:only-of-type {\n",
       "        vertical-align: middle;\n",
       "    }\n",
       "\n",
       "    .dataframe tbody tr th {\n",
       "        vertical-align: top;\n",
       "    }\n",
       "\n",
       "    .dataframe thead th {\n",
       "        text-align: right;\n",
       "    }\n",
       "</style>\n",
       "<table border=\"1\" class=\"dataframe\">\n",
       "  <thead>\n",
       "    <tr style=\"text-align: right;\">\n",
       "      <th></th>\n",
       "      <th>Unnamed: 0</th>\n",
       "      <th>album_type</th>\n",
       "      <th>artist_id</th>\n",
       "      <th>available_markets</th>\n",
       "      <th>external_urls</th>\n",
       "      <th>href</th>\n",
       "      <th>id</th>\n",
       "      <th>images</th>\n",
       "      <th>name</th>\n",
       "      <th>release_date</th>\n",
       "      <th>release_date_precision</th>\n",
       "      <th>total_tracks</th>\n",
       "      <th>track_id</th>\n",
       "      <th>track_name_prev</th>\n",
       "      <th>uri</th>\n",
       "      <th>type</th>\n",
       "    </tr>\n",
       "  </thead>\n",
       "  <tbody>\n",
       "    <tr>\n",
       "      <th>0</th>\n",
       "      <td>0</td>\n",
       "      <td>single</td>\n",
       "      <td>3DiDSECUqqY1AuBP8qtaIa</td>\n",
       "      <td>['AD', 'AE', 'AR', 'AT', 'AU', 'BE', 'BG', 'BH...</td>\n",
       "      <td>{'spotify': 'https://open.spotify.com/album/1g...</td>\n",
       "      <td>https://api.spotify.com/v1/albums/1gAM7M4rBwEb...</td>\n",
       "      <td>1gAM7M4rBwEbSPeAQR2nx1</td>\n",
       "      <td>[{'height': 640, 'url': 'https://i.scdn.co/ima...</td>\n",
       "      <td>If I Ain't Got You EP</td>\n",
       "      <td>2019-02-08</td>\n",
       "      <td>day</td>\n",
       "      <td>6</td>\n",
       "      <td>2iejTMy9XZ8Gaae0aQ2yl0</td>\n",
       "      <td>track_32</td>\n",
       "      <td>spotify:album:1gAM7M4rBwEbSPeAQR2nx1</td>\n",
       "      <td>album</td>\n",
       "    </tr>\n",
       "    <tr>\n",
       "      <th>1</th>\n",
       "      <td>1</td>\n",
       "      <td>album</td>\n",
       "      <td>6s1pCNXcbdtQJlsnM1hRIA</td>\n",
       "      <td>['AD', 'AE', 'AR', 'AT', 'AU', 'BE', 'BG', 'BH...</td>\n",
       "      <td>{'spotify': 'https://open.spotify.com/album/4K...</td>\n",
       "      <td>https://api.spotify.com/v1/albums/4KfJZV7WfolY...</td>\n",
       "      <td>4KfJZV7WfolYlxBzOTo66s</td>\n",
       "      <td>[{'height': 640, 'url': 'https://i.scdn.co/ima...</td>\n",
       "      <td>Shostakovich Symphony No.5 - Four Romances on ...</td>\n",
       "      <td>2019-03-01</td>\n",
       "      <td>day</td>\n",
       "      <td>8</td>\n",
       "      <td>1WQfghEjszJJ4H8MAWrQ2C</td>\n",
       "      <td>track_11</td>\n",
       "      <td>spotify:album:4KfJZV7WfolYlxBzOTo66s</td>\n",
       "      <td>album</td>\n",
       "    </tr>\n",
       "    <tr>\n",
       "      <th>2</th>\n",
       "      <td>2</td>\n",
       "      <td>single</td>\n",
       "      <td>5YjfNaHq05WrwldRe1QSBc</td>\n",
       "      <td>['AD', 'AE', 'AR', 'AT', 'AU', 'BE', 'BG', 'BH...</td>\n",
       "      <td>{'spotify': 'https://open.spotify.com/album/7n...</td>\n",
       "      <td>https://api.spotify.com/v1/albums/7nLYY7uAVUb5...</td>\n",
       "      <td>7nLYY7uAVUb57kpd7tZxnS</td>\n",
       "      <td>[{'height': 640, 'url': 'https://i.scdn.co/ima...</td>\n",
       "      <td>Take My Bass</td>\n",
       "      <td>2019-03-14</td>\n",
       "      <td>day</td>\n",
       "      <td>1</td>\n",
       "      <td>3jJKj4QTK3v18ZSwpk7AcV</td>\n",
       "      <td>track_15</td>\n",
       "      <td>spotify:album:7nLYY7uAVUb57kpd7tZxnS</td>\n",
       "      <td>album</td>\n",
       "    </tr>\n",
       "    <tr>\n",
       "      <th>3</th>\n",
       "      <td>3</td>\n",
       "      <td>single</td>\n",
       "      <td>2G9Vc16JCpnZmK4uGH46Fa</td>\n",
       "      <td>['AD', 'AE', 'AR', 'AT', 'AU', 'BE', 'BG', 'BH...</td>\n",
       "      <td>{'spotify': 'https://open.spotify.com/album/6p...</td>\n",
       "      <td>https://api.spotify.com/v1/albums/6p20Rt4x2Qn5...</td>\n",
       "      <td>6p20Rt4x2Qn5mUMRi1s6pj</td>\n",
       "      <td>[{'height': 640, 'url': 'https://i.scdn.co/ima...</td>\n",
       "      <td>Hypnotizing (Are U)</td>\n",
       "      <td>2016-11-16</td>\n",
       "      <td>day</td>\n",
       "      <td>1</td>\n",
       "      <td>1xGtDafUZbHyYC3Xarcbrj</td>\n",
       "      <td>track_46</td>\n",
       "      <td>spotify:album:6p20Rt4x2Qn5mUMRi1s6pj</td>\n",
       "      <td>album</td>\n",
       "    </tr>\n",
       "    <tr>\n",
       "      <th>4</th>\n",
       "      <td>4</td>\n",
       "      <td>single</td>\n",
       "      <td>2dwM9OcE4c3Ph1UBINSodx</td>\n",
       "      <td>['AD', 'AE', 'AR', 'AT', 'AU', 'BE', 'BG', 'BH...</td>\n",
       "      <td>{'spotify': 'https://open.spotify.com/album/1X...</td>\n",
       "      <td>https://api.spotify.com/v1/albums/1XeoOqC1q7U2...</td>\n",
       "      <td>1XeoOqC1q7U2iyLEQJ64cu</td>\n",
       "      <td>[{'height': 640, 'url': 'https://i.scdn.co/ima...</td>\n",
       "      <td>Sunshine</td>\n",
       "      <td>2018-07-20</td>\n",
       "      <td>day</td>\n",
       "      <td>1</td>\n",
       "      <td>0gWtsXvXOzAT6FtM3ur8in</td>\n",
       "      <td>track_10</td>\n",
       "      <td>spotify:album:1XeoOqC1q7U2iyLEQJ64cu</td>\n",
       "      <td>album</td>\n",
       "    </tr>\n",
       "  </tbody>\n",
       "</table>\n",
       "</div>"
      ],
      "text/plain": [
       "   Unnamed: 0 album_type               artist_id  \\\n",
       "0           0     single  3DiDSECUqqY1AuBP8qtaIa   \n",
       "1           1      album  6s1pCNXcbdtQJlsnM1hRIA   \n",
       "2           2     single  5YjfNaHq05WrwldRe1QSBc   \n",
       "3           3     single  2G9Vc16JCpnZmK4uGH46Fa   \n",
       "4           4     single  2dwM9OcE4c3Ph1UBINSodx   \n",
       "\n",
       "                                   available_markets  \\\n",
       "0  ['AD', 'AE', 'AR', 'AT', 'AU', 'BE', 'BG', 'BH...   \n",
       "1  ['AD', 'AE', 'AR', 'AT', 'AU', 'BE', 'BG', 'BH...   \n",
       "2  ['AD', 'AE', 'AR', 'AT', 'AU', 'BE', 'BG', 'BH...   \n",
       "3  ['AD', 'AE', 'AR', 'AT', 'AU', 'BE', 'BG', 'BH...   \n",
       "4  ['AD', 'AE', 'AR', 'AT', 'AU', 'BE', 'BG', 'BH...   \n",
       "\n",
       "                                       external_urls  \\\n",
       "0  {'spotify': 'https://open.spotify.com/album/1g...   \n",
       "1  {'spotify': 'https://open.spotify.com/album/4K...   \n",
       "2  {'spotify': 'https://open.spotify.com/album/7n...   \n",
       "3  {'spotify': 'https://open.spotify.com/album/6p...   \n",
       "4  {'spotify': 'https://open.spotify.com/album/1X...   \n",
       "\n",
       "                                                href                      id  \\\n",
       "0  https://api.spotify.com/v1/albums/1gAM7M4rBwEb...  1gAM7M4rBwEbSPeAQR2nx1   \n",
       "1  https://api.spotify.com/v1/albums/4KfJZV7WfolY...  4KfJZV7WfolYlxBzOTo66s   \n",
       "2  https://api.spotify.com/v1/albums/7nLYY7uAVUb5...  7nLYY7uAVUb57kpd7tZxnS   \n",
       "3  https://api.spotify.com/v1/albums/6p20Rt4x2Qn5...  6p20Rt4x2Qn5mUMRi1s6pj   \n",
       "4  https://api.spotify.com/v1/albums/1XeoOqC1q7U2...  1XeoOqC1q7U2iyLEQJ64cu   \n",
       "\n",
       "                                              images  \\\n",
       "0  [{'height': 640, 'url': 'https://i.scdn.co/ima...   \n",
       "1  [{'height': 640, 'url': 'https://i.scdn.co/ima...   \n",
       "2  [{'height': 640, 'url': 'https://i.scdn.co/ima...   \n",
       "3  [{'height': 640, 'url': 'https://i.scdn.co/ima...   \n",
       "4  [{'height': 640, 'url': 'https://i.scdn.co/ima...   \n",
       "\n",
       "                                                name release_date  \\\n",
       "0                              If I Ain't Got You EP   2019-02-08   \n",
       "1  Shostakovich Symphony No.5 - Four Romances on ...   2019-03-01   \n",
       "2                                       Take My Bass   2019-03-14   \n",
       "3                                Hypnotizing (Are U)   2016-11-16   \n",
       "4                                           Sunshine   2018-07-20   \n",
       "\n",
       "  release_date_precision  total_tracks                track_id  \\\n",
       "0                    day             6  2iejTMy9XZ8Gaae0aQ2yl0   \n",
       "1                    day             8  1WQfghEjszJJ4H8MAWrQ2C   \n",
       "2                    day             1  3jJKj4QTK3v18ZSwpk7AcV   \n",
       "3                    day             1  1xGtDafUZbHyYC3Xarcbrj   \n",
       "4                    day             1  0gWtsXvXOzAT6FtM3ur8in   \n",
       "\n",
       "  track_name_prev                                   uri   type  \n",
       "0        track_32  spotify:album:1gAM7M4rBwEbSPeAQR2nx1  album  \n",
       "1        track_11  spotify:album:4KfJZV7WfolYlxBzOTo66s  album  \n",
       "2        track_15  spotify:album:7nLYY7uAVUb57kpd7tZxnS  album  \n",
       "3        track_46  spotify:album:6p20Rt4x2Qn5mUMRi1s6pj  album  \n",
       "4        track_10  spotify:album:1XeoOqC1q7U2iyLEQJ64cu  album  "
      ]
     },
     "execution_count": 14,
     "metadata": {},
     "output_type": "execute_result"
    }
   ],
   "source": [
    "# show first 5 rows\n",
    "print(df_albums.info())\n",
    "df_albums.head()"
   ]
  },
  {
   "cell_type": "code",
   "execution_count": 9,
   "metadata": {},
   "outputs": [
    {
     "name": "stdout",
     "output_type": "stream",
     "text": [
      "<class 'pandas.core.frame.DataFrame'>\n",
      "RangeIndex: 56129 entries, 0 to 56128\n",
      "Data columns (total 9 columns):\n",
      " #   Column             Non-Null Count  Dtype \n",
      "---  ------             --------------  ----- \n",
      " 0   Unnamed: 0         56129 non-null  int64 \n",
      " 1   artist_popularity  56129 non-null  int64 \n",
      " 2   followers          56129 non-null  int64 \n",
      " 3   genres             56129 non-null  object\n",
      " 4   id                 56129 non-null  object\n",
      " 5   name               56128 non-null  object\n",
      " 6   track_id           56129 non-null  object\n",
      " 7   track_name_prev    56129 non-null  object\n",
      " 8   type               56129 non-null  object\n",
      "dtypes: int64(3), object(6)\n",
      "memory usage: 3.9+ MB\n",
      "None\n"
     ]
    },
    {
     "data": {
      "text/html": [
       "<div>\n",
       "<style scoped>\n",
       "    .dataframe tbody tr th:only-of-type {\n",
       "        vertical-align: middle;\n",
       "    }\n",
       "\n",
       "    .dataframe tbody tr th {\n",
       "        vertical-align: top;\n",
       "    }\n",
       "\n",
       "    .dataframe thead th {\n",
       "        text-align: right;\n",
       "    }\n",
       "</style>\n",
       "<table border=\"1\" class=\"dataframe\">\n",
       "  <thead>\n",
       "    <tr style=\"text-align: right;\">\n",
       "      <th></th>\n",
       "      <th>Unnamed: 0</th>\n",
       "      <th>artist_popularity</th>\n",
       "      <th>followers</th>\n",
       "      <th>genres</th>\n",
       "      <th>id</th>\n",
       "      <th>name</th>\n",
       "      <th>track_id</th>\n",
       "      <th>track_name_prev</th>\n",
       "      <th>type</th>\n",
       "    </tr>\n",
       "  </thead>\n",
       "  <tbody>\n",
       "    <tr>\n",
       "      <th>0</th>\n",
       "      <td>0</td>\n",
       "      <td>44</td>\n",
       "      <td>23230</td>\n",
       "      <td>['sertanejo', 'sertanejo pop', 'sertanejo trad...</td>\n",
       "      <td>4mGnpjhqgx4RUdsIJiURdo</td>\n",
       "      <td>Juliano Cezar</td>\n",
       "      <td>0wmDmAILuW9e2aRttkl4aC</td>\n",
       "      <td>track_9</td>\n",
       "      <td>artist</td>\n",
       "    </tr>\n",
       "    <tr>\n",
       "      <th>1</th>\n",
       "      <td>1</td>\n",
       "      <td>22</td>\n",
       "      <td>313</td>\n",
       "      <td>[]</td>\n",
       "      <td>1dLnVku4VQUOLswwDFvRc9</td>\n",
       "      <td>The Grenadines</td>\n",
       "      <td>4wqwj0gA8qPZKLl5WVqXml</td>\n",
       "      <td>track_30</td>\n",
       "      <td>artist</td>\n",
       "    </tr>\n",
       "    <tr>\n",
       "      <th>2</th>\n",
       "      <td>2</td>\n",
       "      <td>26</td>\n",
       "      <td>1596</td>\n",
       "      <td>['danish pop rock']</td>\n",
       "      <td>6YVY310fjfUzKi8hiqR7iK</td>\n",
       "      <td>Gangway</td>\n",
       "      <td>1bFqWDbvHmZe2f4Nf9qaD8</td>\n",
       "      <td>track_38</td>\n",
       "      <td>artist</td>\n",
       "    </tr>\n",
       "    <tr>\n",
       "      <th>3</th>\n",
       "      <td>3</td>\n",
       "      <td>31</td>\n",
       "      <td>149</td>\n",
       "      <td>['uk alternative pop']</td>\n",
       "      <td>2VElyouiCfoYPDJluzwJwK</td>\n",
       "      <td>FADES</td>\n",
       "      <td>3MFSUBAidPzRBbIS7BDj1S</td>\n",
       "      <td>track_34</td>\n",
       "      <td>artist</td>\n",
       "    </tr>\n",
       "    <tr>\n",
       "      <th>4</th>\n",
       "      <td>4</td>\n",
       "      <td>21</td>\n",
       "      <td>11</td>\n",
       "      <td>['french baroque']</td>\n",
       "      <td>4agVy03qW8juSysCTUOuDI</td>\n",
       "      <td>Jean-Pierre Guignon</td>\n",
       "      <td>2r3q57FhxdsCyYr0kuDq4b</td>\n",
       "      <td>track_26</td>\n",
       "      <td>artist</td>\n",
       "    </tr>\n",
       "  </tbody>\n",
       "</table>\n",
       "</div>"
      ],
      "text/plain": [
       "   Unnamed: 0  artist_popularity  followers  \\\n",
       "0           0                 44      23230   \n",
       "1           1                 22        313   \n",
       "2           2                 26       1596   \n",
       "3           3                 31        149   \n",
       "4           4                 21         11   \n",
       "\n",
       "                                              genres                      id  \\\n",
       "0  ['sertanejo', 'sertanejo pop', 'sertanejo trad...  4mGnpjhqgx4RUdsIJiURdo   \n",
       "1                                                 []  1dLnVku4VQUOLswwDFvRc9   \n",
       "2                                ['danish pop rock']  6YVY310fjfUzKi8hiqR7iK   \n",
       "3                             ['uk alternative pop']  2VElyouiCfoYPDJluzwJwK   \n",
       "4                                 ['french baroque']  4agVy03qW8juSysCTUOuDI   \n",
       "\n",
       "                  name                track_id track_name_prev    type  \n",
       "0        Juliano Cezar  0wmDmAILuW9e2aRttkl4aC         track_9  artist  \n",
       "1       The Grenadines  4wqwj0gA8qPZKLl5WVqXml        track_30  artist  \n",
       "2              Gangway  1bFqWDbvHmZe2f4Nf9qaD8        track_38  artist  \n",
       "3                FADES  3MFSUBAidPzRBbIS7BDj1S        track_34  artist  \n",
       "4  Jean-Pierre Guignon  2r3q57FhxdsCyYr0kuDq4b        track_26  artist  "
      ]
     },
     "execution_count": 9,
     "metadata": {},
     "output_type": "execute_result"
    }
   ],
   "source": [
    "# show first 5 rows\n",
    "print(df_artists.info())\n",
    "df_artists.head()"
   ]
  },
  {
   "cell_type": "code",
   "execution_count": 16,
   "metadata": {},
   "outputs": [
    {
     "name": "stdout",
     "output_type": "stream",
     "text": [
      "<class 'pandas.core.frame.DataFrame'>\n",
      "RangeIndex: 94954 entries, 0 to 94953\n",
      "Data columns (total 8 columns):\n",
      " #   Column               Non-Null Count  Dtype  \n",
      "---  ------               --------------  -----  \n",
      " 0   Unnamed: 0           94954 non-null  int64  \n",
      " 1   mean_syllables_word  94954 non-null  float64\n",
      " 2   mean_words_sentence  94954 non-null  float64\n",
      " 3   n_sentences          94954 non-null  int64  \n",
      " 4   n_words              94954 non-null  int64  \n",
      " 5   sentence_similarity  94954 non-null  float64\n",
      " 6   track_id             94954 non-null  object \n",
      " 7   vocabulary_wealth    94954 non-null  float64\n",
      "dtypes: float64(4), int64(3), object(1)\n",
      "memory usage: 5.8+ MB\n",
      "None\n"
     ]
    },
    {
     "data": {
      "text/html": [
       "<div>\n",
       "<style scoped>\n",
       "    .dataframe tbody tr th:only-of-type {\n",
       "        vertical-align: middle;\n",
       "    }\n",
       "\n",
       "    .dataframe tbody tr th {\n",
       "        vertical-align: top;\n",
       "    }\n",
       "\n",
       "    .dataframe thead th {\n",
       "        text-align: right;\n",
       "    }\n",
       "</style>\n",
       "<table border=\"1\" class=\"dataframe\">\n",
       "  <thead>\n",
       "    <tr style=\"text-align: right;\">\n",
       "      <th></th>\n",
       "      <th>Unnamed: 0</th>\n",
       "      <th>mean_syllables_word</th>\n",
       "      <th>mean_words_sentence</th>\n",
       "      <th>n_sentences</th>\n",
       "      <th>n_words</th>\n",
       "      <th>sentence_similarity</th>\n",
       "      <th>track_id</th>\n",
       "      <th>vocabulary_wealth</th>\n",
       "    </tr>\n",
       "  </thead>\n",
       "  <tbody>\n",
       "    <tr>\n",
       "      <th>0</th>\n",
       "      <td>0</td>\n",
       "      <td>-1.00</td>\n",
       "      <td>-1.00</td>\n",
       "      <td>-1</td>\n",
       "      <td>-1</td>\n",
       "      <td>-1.000000</td>\n",
       "      <td>5KIfHjHI5NIsPHNt58qua0</td>\n",
       "      <td>-1.00</td>\n",
       "    </tr>\n",
       "    <tr>\n",
       "      <th>1</th>\n",
       "      <td>1</td>\n",
       "      <td>1.10</td>\n",
       "      <td>5.65</td>\n",
       "      <td>31</td>\n",
       "      <td>326</td>\n",
       "      <td>0.043011</td>\n",
       "      <td>13keyz9ikBe6ZpRasw7l4X</td>\n",
       "      <td>0.45</td>\n",
       "    </tr>\n",
       "    <tr>\n",
       "      <th>2</th>\n",
       "      <td>2</td>\n",
       "      <td>1.37</td>\n",
       "      <td>4.77</td>\n",
       "      <td>74</td>\n",
       "      <td>532</td>\n",
       "      <td>0.050352</td>\n",
       "      <td>1WugzepXsLjnsM0K4UaWYc</td>\n",
       "      <td>0.59</td>\n",
       "    </tr>\n",
       "    <tr>\n",
       "      <th>3</th>\n",
       "      <td>3</td>\n",
       "      <td>1.95</td>\n",
       "      <td>3.38</td>\n",
       "      <td>72</td>\n",
       "      <td>430</td>\n",
       "      <td>0.028560</td>\n",
       "      <td>2MO6oEAlMKcsfI8xP3yoy8</td>\n",
       "      <td>0.49</td>\n",
       "    </tr>\n",
       "    <tr>\n",
       "      <th>4</th>\n",
       "      <td>4</td>\n",
       "      <td>1.16</td>\n",
       "      <td>2.99</td>\n",
       "      <td>68</td>\n",
       "      <td>368</td>\n",
       "      <td>0.047849</td>\n",
       "      <td>1i4St7fmSUE9nB3R9n8fol</td>\n",
       "      <td>0.47</td>\n",
       "    </tr>\n",
       "  </tbody>\n",
       "</table>\n",
       "</div>"
      ],
      "text/plain": [
       "   Unnamed: 0  mean_syllables_word  mean_words_sentence  n_sentences  n_words  \\\n",
       "0           0                -1.00                -1.00           -1       -1   \n",
       "1           1                 1.10                 5.65           31      326   \n",
       "2           2                 1.37                 4.77           74      532   \n",
       "3           3                 1.95                 3.38           72      430   \n",
       "4           4                 1.16                 2.99           68      368   \n",
       "\n",
       "   sentence_similarity                track_id  vocabulary_wealth  \n",
       "0            -1.000000  5KIfHjHI5NIsPHNt58qua0              -1.00  \n",
       "1             0.043011  13keyz9ikBe6ZpRasw7l4X               0.45  \n",
       "2             0.050352  1WugzepXsLjnsM0K4UaWYc               0.59  \n",
       "3             0.028560  2MO6oEAlMKcsfI8xP3yoy8               0.49  \n",
       "4             0.047849  1i4St7fmSUE9nB3R9n8fol               0.47  "
      ]
     },
     "execution_count": 16,
     "metadata": {},
     "output_type": "execute_result"
    }
   ],
   "source": [
    "# show first 5 rows\n",
    "print(df_lyrics.info())\n",
    "df_lyrics.head()"
   ]
  },
  {
   "cell_type": "code",
   "execution_count": 19,
   "metadata": {},
   "outputs": [
    {
     "name": "stdout",
     "output_type": "stream",
     "text": [
      "<class 'pandas.core.frame.DataFrame'>\n",
      "RangeIndex: 101909 entries, 0 to 101908\n",
      "Columns: 209 entries, Unnamed: 0 to track_id\n",
      "dtypes: float64(207), int64(1), object(1)\n",
      "memory usage: 162.5+ MB\n",
      "None\n"
     ]
    },
    {
     "data": {
      "text/html": [
       "<div>\n",
       "<style scoped>\n",
       "    .dataframe tbody tr th:only-of-type {\n",
       "        vertical-align: middle;\n",
       "    }\n",
       "\n",
       "    .dataframe tbody tr th {\n",
       "        vertical-align: top;\n",
       "    }\n",
       "\n",
       "    .dataframe thead th {\n",
       "        text-align: right;\n",
       "    }\n",
       "</style>\n",
       "<table border=\"1\" class=\"dataframe\">\n",
       "  <thead>\n",
       "    <tr style=\"text-align: right;\">\n",
       "      <th></th>\n",
       "      <th>Unnamed: 0</th>\n",
       "      <th>Chroma_1</th>\n",
       "      <th>Chroma_10</th>\n",
       "      <th>Chroma_11</th>\n",
       "      <th>Chroma_12</th>\n",
       "      <th>Chroma_2</th>\n",
       "      <th>Chroma_3</th>\n",
       "      <th>Chroma_4</th>\n",
       "      <th>Chroma_5</th>\n",
       "      <th>Chroma_6</th>\n",
       "      <th>...</th>\n",
       "      <th>Tonnetz_4</th>\n",
       "      <th>Tonnetz_5</th>\n",
       "      <th>Tonnetz_6</th>\n",
       "      <th>ZCR</th>\n",
       "      <th>entropy_energy</th>\n",
       "      <th>spectral_bandwith</th>\n",
       "      <th>spectral_centroid</th>\n",
       "      <th>spectral_rollOff_max</th>\n",
       "      <th>spectral_rollOff_min</th>\n",
       "      <th>track_id</th>\n",
       "    </tr>\n",
       "  </thead>\n",
       "  <tbody>\n",
       "    <tr>\n",
       "      <th>0</th>\n",
       "      <td>0</td>\n",
       "      <td>0.438296</td>\n",
       "      <td>0.472769</td>\n",
       "      <td>0.427441</td>\n",
       "      <td>0.436688</td>\n",
       "      <td>0.467697</td>\n",
       "      <td>0.493862</td>\n",
       "      <td>0.512244</td>\n",
       "      <td>0.568658</td>\n",
       "      <td>0.560524</td>\n",
       "      <td>...</td>\n",
       "      <td>0.018434</td>\n",
       "      <td>-0.001759</td>\n",
       "      <td>-0.006392</td>\n",
       "      <td>0.067966</td>\n",
       "      <td>-89.113389</td>\n",
       "      <td>2564.247669</td>\n",
       "      <td>3558.400706</td>\n",
       "      <td>4508.506071</td>\n",
       "      <td>367.831109</td>\n",
       "      <td>19YEk4OVQZn3GfoxbpNrU6</td>\n",
       "    </tr>\n",
       "    <tr>\n",
       "      <th>1</th>\n",
       "      <td>1</td>\n",
       "      <td>0.596605</td>\n",
       "      <td>0.368288</td>\n",
       "      <td>0.285263</td>\n",
       "      <td>0.302211</td>\n",
       "      <td>0.905805</td>\n",
       "      <td>0.510909</td>\n",
       "      <td>0.221708</td>\n",
       "      <td>0.311248</td>\n",
       "      <td>0.491277</td>\n",
       "      <td>...</td>\n",
       "      <td>0.046941</td>\n",
       "      <td>0.005665</td>\n",
       "      <td>-0.026928</td>\n",
       "      <td>0.047308</td>\n",
       "      <td>-127.945239</td>\n",
       "      <td>2370.181495</td>\n",
       "      <td>1499.689590</td>\n",
       "      <td>3647.394611</td>\n",
       "      <td>230.165275</td>\n",
       "      <td>6zJms3MX11Qu1IKF44LoRW</td>\n",
       "    </tr>\n",
       "    <tr>\n",
       "      <th>2</th>\n",
       "      <td>2</td>\n",
       "      <td>0.505224</td>\n",
       "      <td>0.500420</td>\n",
       "      <td>0.506773</td>\n",
       "      <td>0.488258</td>\n",
       "      <td>0.498356</td>\n",
       "      <td>0.573582</td>\n",
       "      <td>0.690761</td>\n",
       "      <td>0.742858</td>\n",
       "      <td>0.686282</td>\n",
       "      <td>...</td>\n",
       "      <td>-0.006929</td>\n",
       "      <td>0.004968</td>\n",
       "      <td>0.008947</td>\n",
       "      <td>0.058463</td>\n",
       "      <td>-238.285176</td>\n",
       "      <td>2973.294736</td>\n",
       "      <td>1543.550034</td>\n",
       "      <td>5623.349330</td>\n",
       "      <td>187.290534</td>\n",
       "      <td>1WugzepXsLjnsM0K4UaWYc</td>\n",
       "    </tr>\n",
       "    <tr>\n",
       "      <th>3</th>\n",
       "      <td>3</td>\n",
       "      <td>0.525690</td>\n",
       "      <td>0.666469</td>\n",
       "      <td>0.579492</td>\n",
       "      <td>0.498920</td>\n",
       "      <td>0.598528</td>\n",
       "      <td>0.631578</td>\n",
       "      <td>0.501693</td>\n",
       "      <td>0.500468</td>\n",
       "      <td>0.587101</td>\n",
       "      <td>...</td>\n",
       "      <td>-0.027382</td>\n",
       "      <td>-0.009689</td>\n",
       "      <td>0.001402</td>\n",
       "      <td>0.080547</td>\n",
       "      <td>-148.785733</td>\n",
       "      <td>2716.749483</td>\n",
       "      <td>3017.248824</td>\n",
       "      <td>5799.931595</td>\n",
       "      <td>160.940693</td>\n",
       "      <td>1pSlTbCrUJ9rmwj5CNNrX4</td>\n",
       "    </tr>\n",
       "    <tr>\n",
       "      <th>4</th>\n",
       "      <td>4</td>\n",
       "      <td>0.632214</td>\n",
       "      <td>0.503698</td>\n",
       "      <td>0.496942</td>\n",
       "      <td>0.611532</td>\n",
       "      <td>0.634613</td>\n",
       "      <td>0.697265</td>\n",
       "      <td>0.557012</td>\n",
       "      <td>0.530836</td>\n",
       "      <td>0.444279</td>\n",
       "      <td>...</td>\n",
       "      <td>0.003728</td>\n",
       "      <td>-0.002780</td>\n",
       "      <td>-0.010120</td>\n",
       "      <td>0.084945</td>\n",
       "      <td>-176.618314</td>\n",
       "      <td>3096.692876</td>\n",
       "      <td>2118.686992</td>\n",
       "      <td>6560.018666</td>\n",
       "      <td>229.131948</td>\n",
       "      <td>5yruvWJs3mL00w4slpCVzN</td>\n",
       "    </tr>\n",
       "  </tbody>\n",
       "</table>\n",
       "<p>5 rows × 209 columns</p>\n",
       "</div>"
      ],
      "text/plain": [
       "   Unnamed: 0  Chroma_1  Chroma_10  Chroma_11  Chroma_12  Chroma_2  Chroma_3  \\\n",
       "0           0  0.438296   0.472769   0.427441   0.436688  0.467697  0.493862   \n",
       "1           1  0.596605   0.368288   0.285263   0.302211  0.905805  0.510909   \n",
       "2           2  0.505224   0.500420   0.506773   0.488258  0.498356  0.573582   \n",
       "3           3  0.525690   0.666469   0.579492   0.498920  0.598528  0.631578   \n",
       "4           4  0.632214   0.503698   0.496942   0.611532  0.634613  0.697265   \n",
       "\n",
       "   Chroma_4  Chroma_5  Chroma_6  ...  Tonnetz_4  Tonnetz_5  Tonnetz_6  \\\n",
       "0  0.512244  0.568658  0.560524  ...   0.018434  -0.001759  -0.006392   \n",
       "1  0.221708  0.311248  0.491277  ...   0.046941   0.005665  -0.026928   \n",
       "2  0.690761  0.742858  0.686282  ...  -0.006929   0.004968   0.008947   \n",
       "3  0.501693  0.500468  0.587101  ...  -0.027382  -0.009689   0.001402   \n",
       "4  0.557012  0.530836  0.444279  ...   0.003728  -0.002780  -0.010120   \n",
       "\n",
       "        ZCR  entropy_energy  spectral_bandwith  spectral_centroid  \\\n",
       "0  0.067966      -89.113389        2564.247669        3558.400706   \n",
       "1  0.047308     -127.945239        2370.181495        1499.689590   \n",
       "2  0.058463     -238.285176        2973.294736        1543.550034   \n",
       "3  0.080547     -148.785733        2716.749483        3017.248824   \n",
       "4  0.084945     -176.618314        3096.692876        2118.686992   \n",
       "\n",
       "   spectral_rollOff_max  spectral_rollOff_min                track_id  \n",
       "0           4508.506071            367.831109  19YEk4OVQZn3GfoxbpNrU6  \n",
       "1           3647.394611            230.165275  6zJms3MX11Qu1IKF44LoRW  \n",
       "2           5623.349330            187.290534  1WugzepXsLjnsM0K4UaWYc  \n",
       "3           5799.931595            160.940693  1pSlTbCrUJ9rmwj5CNNrX4  \n",
       "4           6560.018666            229.131948  5yruvWJs3mL00w4slpCVzN  \n",
       "\n",
       "[5 rows x 209 columns]"
      ]
     },
     "execution_count": 19,
     "metadata": {},
     "output_type": "execute_result"
    }
   ],
   "source": [
    "# show first 5 rows\n",
    "print(df_audio.info())\n",
    "df_audio.head()"
   ]
  },
  {
   "cell_type": "code",
   "execution_count": 20,
   "metadata": {},
   "outputs": [
    {
     "data": {
      "text/html": [
       "<div>\n",
       "<style scoped>\n",
       "    .dataframe tbody tr th:only-of-type {\n",
       "        vertical-align: middle;\n",
       "    }\n",
       "\n",
       "    .dataframe tbody tr th {\n",
       "        vertical-align: top;\n",
       "    }\n",
       "\n",
       "    .dataframe thead th {\n",
       "        text-align: right;\n",
       "    }\n",
       "</style>\n",
       "<table border=\"1\" class=\"dataframe\">\n",
       "  <thead>\n",
       "    <tr style=\"text-align: right;\">\n",
       "      <th></th>\n",
       "      <th>Unnamed: 0</th>\n",
       "      <th>acousticness</th>\n",
       "      <th>album_id</th>\n",
       "      <th>analysis_url</th>\n",
       "      <th>artists_id</th>\n",
       "      <th>available_markets</th>\n",
       "      <th>country</th>\n",
       "      <th>danceability</th>\n",
       "      <th>disc_number</th>\n",
       "      <th>duration_ms</th>\n",
       "      <th>...</th>\n",
       "      <th>preview_url</th>\n",
       "      <th>speechiness</th>\n",
       "      <th>tempo</th>\n",
       "      <th>time_signature</th>\n",
       "      <th>track_href</th>\n",
       "      <th>track_name_prev</th>\n",
       "      <th>track_number</th>\n",
       "      <th>uri</th>\n",
       "      <th>valence</th>\n",
       "      <th>type</th>\n",
       "    </tr>\n",
       "  </thead>\n",
       "  <tbody>\n",
       "    <tr>\n",
       "      <th>0</th>\n",
       "      <td>0</td>\n",
       "      <td>0.294000</td>\n",
       "      <td>0D3QufeCudpQANOR7luqdr</td>\n",
       "      <td>https://api.spotify.com/v1/audio-analysis/5qlj...</td>\n",
       "      <td>'3mxJuHRn2ZWD5OofvJtDZY'</td>\n",
       "      <td>['AD', 'AE', 'AR', 'AT', 'AU', 'BE', 'BG', 'BH...</td>\n",
       "      <td>BE</td>\n",
       "      <td>0.698</td>\n",
       "      <td>1.0</td>\n",
       "      <td>235584.0</td>\n",
       "      <td>...</td>\n",
       "      <td>https://p.scdn.co/mp3-preview/1b05a902da3a251d...</td>\n",
       "      <td>0.0262</td>\n",
       "      <td>115.018</td>\n",
       "      <td>4.0</td>\n",
       "      <td>https://api.spotify.com/v1/tracks/5qljLQuKnNJf...</td>\n",
       "      <td>track_14</td>\n",
       "      <td>1.0</td>\n",
       "      <td>spotify:track:5qljLQuKnNJf4F4vfxQB0V</td>\n",
       "      <td>0.6220</td>\n",
       "      <td>track</td>\n",
       "    </tr>\n",
       "    <tr>\n",
       "      <th>1</th>\n",
       "      <td>1</td>\n",
       "      <td>0.863000</td>\n",
       "      <td>1bcqsH5UyTBzmh9YizdsBE</td>\n",
       "      <td>https://api.spotify.com/v1/audio-analysis/3VAX...</td>\n",
       "      <td>'4xWMewm6CYMstu0sPgd9jJ'</td>\n",
       "      <td>['AD', 'AE', 'AR', 'AT', 'AU', 'BE', 'BG', 'BH...</td>\n",
       "      <td>BE</td>\n",
       "      <td>0.719</td>\n",
       "      <td>1.0</td>\n",
       "      <td>656960.0</td>\n",
       "      <td>...</td>\n",
       "      <td>https://p.scdn.co/mp3-preview/d8140736a6131cb5...</td>\n",
       "      <td>0.9220</td>\n",
       "      <td>115.075</td>\n",
       "      <td>3.0</td>\n",
       "      <td>https://api.spotify.com/v1/tracks/3VAX2MJdmdqA...</td>\n",
       "      <td>track_3</td>\n",
       "      <td>3.0</td>\n",
       "      <td>spotify:track:3VAX2MJdmdqARLSU5hPMpm</td>\n",
       "      <td>0.5890</td>\n",
       "      <td>track</td>\n",
       "    </tr>\n",
       "    <tr>\n",
       "      <th>2</th>\n",
       "      <td>2</td>\n",
       "      <td>0.750000</td>\n",
       "      <td>4tKijjmxGClg4JOLAyo2qE</td>\n",
       "      <td>https://api.spotify.com/v1/audio-analysis/1L3Y...</td>\n",
       "      <td>'3hYaK5FF3YAglCj5HZgBnP'</td>\n",
       "      <td>['GB']</td>\n",
       "      <td>BE</td>\n",
       "      <td>0.466</td>\n",
       "      <td>1.0</td>\n",
       "      <td>492840.0</td>\n",
       "      <td>...</td>\n",
       "      <td>https://p.scdn.co/mp3-preview/c8af28fb15185b18...</td>\n",
       "      <td>0.9440</td>\n",
       "      <td>79.565</td>\n",
       "      <td>4.0</td>\n",
       "      <td>https://api.spotify.com/v1/tracks/1L3YAhsEMrGV...</td>\n",
       "      <td>track_4</td>\n",
       "      <td>4.0</td>\n",
       "      <td>spotify:track:1L3YAhsEMrGVvCgDXj2TYn</td>\n",
       "      <td>0.0850</td>\n",
       "      <td>track</td>\n",
       "    </tr>\n",
       "    <tr>\n",
       "      <th>3</th>\n",
       "      <td>3</td>\n",
       "      <td>0.763000</td>\n",
       "      <td>6FeJF5r8roonnKraJxr4oB</td>\n",
       "      <td>https://api.spotify.com/v1/audio-analysis/6aCe...</td>\n",
       "      <td>'2KQsUB9DRBcJk17JWX1eXD'</td>\n",
       "      <td>['AD', 'AE', 'AR', 'AT', 'AU', 'BE', 'BG', 'BH...</td>\n",
       "      <td>BE</td>\n",
       "      <td>0.719</td>\n",
       "      <td>1.0</td>\n",
       "      <td>316578.0</td>\n",
       "      <td>...</td>\n",
       "      <td>https://p.scdn.co/mp3-preview/7629b8e9f31f6e9b...</td>\n",
       "      <td>0.9380</td>\n",
       "      <td>112.822</td>\n",
       "      <td>3.0</td>\n",
       "      <td>https://api.spotify.com/v1/tracks/6aCe9zzoZmCo...</td>\n",
       "      <td>track_9</td>\n",
       "      <td>1.0</td>\n",
       "      <td>spotify:track:6aCe9zzoZmCojX7bbgKKtf</td>\n",
       "      <td>0.5330</td>\n",
       "      <td>track</td>\n",
       "    </tr>\n",
       "    <tr>\n",
       "      <th>4</th>\n",
       "      <td>4</td>\n",
       "      <td>0.770000</td>\n",
       "      <td>4tKijjmxGClg4JOLAyo2qE</td>\n",
       "      <td>https://api.spotify.com/v1/audio-analysis/1Vo8...</td>\n",
       "      <td>'3hYaK5FF3YAglCj5HZgBnP'</td>\n",
       "      <td>['GB']</td>\n",
       "      <td>BE</td>\n",
       "      <td>0.460</td>\n",
       "      <td>1.0</td>\n",
       "      <td>558880.0</td>\n",
       "      <td>...</td>\n",
       "      <td>https://p.scdn.co/mp3-preview/32be593c0eb82868...</td>\n",
       "      <td>0.9430</td>\n",
       "      <td>81.260</td>\n",
       "      <td>4.0</td>\n",
       "      <td>https://api.spotify.com/v1/tracks/1Vo802A38tPF...</td>\n",
       "      <td>track_2</td>\n",
       "      <td>2.0</td>\n",
       "      <td>spotify:track:1Vo802A38tPFHmje1h91um</td>\n",
       "      <td>0.0906</td>\n",
       "      <td>track</td>\n",
       "    </tr>\n",
       "    <tr>\n",
       "      <th>...</th>\n",
       "      <td>...</td>\n",
       "      <td>...</td>\n",
       "      <td>...</td>\n",
       "      <td>...</td>\n",
       "      <td>...</td>\n",
       "      <td>...</td>\n",
       "      <td>...</td>\n",
       "      <td>...</td>\n",
       "      <td>...</td>\n",
       "      <td>...</td>\n",
       "      <td>...</td>\n",
       "      <td>...</td>\n",
       "      <td>...</td>\n",
       "      <td>...</td>\n",
       "      <td>...</td>\n",
       "      <td>...</td>\n",
       "      <td>...</td>\n",
       "      <td>...</td>\n",
       "      <td>...</td>\n",
       "      <td>...</td>\n",
       "      <td>...</td>\n",
       "    </tr>\n",
       "    <tr>\n",
       "      <th>101934</th>\n",
       "      <td>101934</td>\n",
       "      <td>0.005640</td>\n",
       "      <td>1M9n4vCmOH4lbcHrpt21Qy</td>\n",
       "      <td>https://api.spotify.com/v1/audio-analysis/4e5w...</td>\n",
       "      <td>'6n3YUZcayLRuAunJUUelvz'</td>\n",
       "      <td>['AU', 'NZ']</td>\n",
       "      <td>AR</td>\n",
       "      <td>0.602</td>\n",
       "      <td>1.0</td>\n",
       "      <td>178893.0</td>\n",
       "      <td>...</td>\n",
       "      <td>https://p.scdn.co/mp3-preview/06f1c1e06ce801d5...</td>\n",
       "      <td>0.0327</td>\n",
       "      <td>130.186</td>\n",
       "      <td>4.0</td>\n",
       "      <td>https://api.spotify.com/v1/tracks/4e5wI6VC4eVD...</td>\n",
       "      <td>track_10</td>\n",
       "      <td>4.0</td>\n",
       "      <td>spotify:track:4e5wI6VC4eVDTtpyZ409Pw</td>\n",
       "      <td>0.7870</td>\n",
       "      <td>track</td>\n",
       "    </tr>\n",
       "    <tr>\n",
       "      <th>101935</th>\n",
       "      <td>101935</td>\n",
       "      <td>0.000406</td>\n",
       "      <td>511p6iaCuK8Sr0BYdpcfkq</td>\n",
       "      <td>https://api.spotify.com/v1/audio-analysis/58nH...</td>\n",
       "      <td>'4iudEcmuPlYNdbP3e1bdn1'</td>\n",
       "      <td>['AD', 'AE', 'AR', 'AT', 'AU', 'BE', 'BG', 'BH...</td>\n",
       "      <td>AR</td>\n",
       "      <td>0.177</td>\n",
       "      <td>1.0</td>\n",
       "      <td>213133.0</td>\n",
       "      <td>...</td>\n",
       "      <td>https://p.scdn.co/mp3-preview/c5a00b395106508f...</td>\n",
       "      <td>0.0604</td>\n",
       "      <td>184.260</td>\n",
       "      <td>4.0</td>\n",
       "      <td>https://api.spotify.com/v1/tracks/58nHFSWj5N5J...</td>\n",
       "      <td>track_16</td>\n",
       "      <td>7.0</td>\n",
       "      <td>spotify:track:58nHFSWj5N5JxNtWgS85TL</td>\n",
       "      <td>0.3630</td>\n",
       "      <td>track</td>\n",
       "    </tr>\n",
       "    <tr>\n",
       "      <th>101936</th>\n",
       "      <td>101936</td>\n",
       "      <td>0.004510</td>\n",
       "      <td>511p6iaCuK8Sr0BYdpcfkq</td>\n",
       "      <td>https://api.spotify.com/v1/audio-analysis/2RDg...</td>\n",
       "      <td>'4iudEcmuPlYNdbP3e1bdn1'</td>\n",
       "      <td>['AD', 'AE', 'AR', 'AT', 'AU', 'BE', 'BG', 'BH...</td>\n",
       "      <td>AR</td>\n",
       "      <td>0.539</td>\n",
       "      <td>1.0</td>\n",
       "      <td>226107.0</td>\n",
       "      <td>...</td>\n",
       "      <td>https://p.scdn.co/mp3-preview/128c860edbac0c6e...</td>\n",
       "      <td>0.0653</td>\n",
       "      <td>118.043</td>\n",
       "      <td>4.0</td>\n",
       "      <td>https://api.spotify.com/v1/tracks/2RDgs05sg2vr...</td>\n",
       "      <td>track_21</td>\n",
       "      <td>2.0</td>\n",
       "      <td>spotify:track:2RDgs05sg2vrpwiAEUkWd0</td>\n",
       "      <td>0.4060</td>\n",
       "      <td>track</td>\n",
       "    </tr>\n",
       "    <tr>\n",
       "      <th>101937</th>\n",
       "      <td>101937</td>\n",
       "      <td>0.333000</td>\n",
       "      <td>7H3Bgvb3hs4vvLwccHDRlr</td>\n",
       "      <td>https://api.spotify.com/v1/audio-analysis/1pXt...</td>\n",
       "      <td>'023YMawCG3OvACmRjWxLWC'</td>\n",
       "      <td>['AD', 'AE', 'AR', 'AT', 'AU', 'BE', 'BG', 'BH...</td>\n",
       "      <td>AR</td>\n",
       "      <td>0.716</td>\n",
       "      <td>1.0</td>\n",
       "      <td>224133.0</td>\n",
       "      <td>...</td>\n",
       "      <td>https://p.scdn.co/mp3-preview/447bbc0bf9324173...</td>\n",
       "      <td>0.1510</td>\n",
       "      <td>110.015</td>\n",
       "      <td>4.0</td>\n",
       "      <td>https://api.spotify.com/v1/tracks/1pXtUVmSS3Ak...</td>\n",
       "      <td>track_26</td>\n",
       "      <td>5.0</td>\n",
       "      <td>spotify:track:1pXtUVmSS3Aky3j6nQ4sQT</td>\n",
       "      <td>0.7600</td>\n",
       "      <td>track</td>\n",
       "    </tr>\n",
       "    <tr>\n",
       "      <th>101938</th>\n",
       "      <td>101938</td>\n",
       "      <td>0.028400</td>\n",
       "      <td>3oieBBYbUOve0VpxTCpHr1</td>\n",
       "      <td>https://api.spotify.com/v1/audio-analysis/6MzG...</td>\n",
       "      <td>'6OgAO7QYncP5feMijPxBxi'</td>\n",
       "      <td>['AD', 'AE', 'AR', 'AT', 'AU', 'BE', 'BG', 'BH...</td>\n",
       "      <td>AR</td>\n",
       "      <td>0.500</td>\n",
       "      <td>1.0</td>\n",
       "      <td>251787.0</td>\n",
       "      <td>...</td>\n",
       "      <td>https://p.scdn.co/mp3-preview/c3d9e399a329d25d...</td>\n",
       "      <td>0.0324</td>\n",
       "      <td>139.749</td>\n",
       "      <td>4.0</td>\n",
       "      <td>https://api.spotify.com/v1/tracks/6MzG4xUhUHNL...</td>\n",
       "      <td>track_30</td>\n",
       "      <td>9.0</td>\n",
       "      <td>spotify:track:6MzG4xUhUHNLZBe3RAC2cX</td>\n",
       "      <td>0.6410</td>\n",
       "      <td>track</td>\n",
       "    </tr>\n",
       "  </tbody>\n",
       "</table>\n",
       "<p>101939 rows × 32 columns</p>\n",
       "</div>"
      ],
      "text/plain": [
       "        Unnamed: 0  acousticness                album_id  \\\n",
       "0                0      0.294000  0D3QufeCudpQANOR7luqdr   \n",
       "1                1      0.863000  1bcqsH5UyTBzmh9YizdsBE   \n",
       "2                2      0.750000  4tKijjmxGClg4JOLAyo2qE   \n",
       "3                3      0.763000  6FeJF5r8roonnKraJxr4oB   \n",
       "4                4      0.770000  4tKijjmxGClg4JOLAyo2qE   \n",
       "...            ...           ...                     ...   \n",
       "101934      101934      0.005640  1M9n4vCmOH4lbcHrpt21Qy   \n",
       "101935      101935      0.000406  511p6iaCuK8Sr0BYdpcfkq   \n",
       "101936      101936      0.004510  511p6iaCuK8Sr0BYdpcfkq   \n",
       "101937      101937      0.333000  7H3Bgvb3hs4vvLwccHDRlr   \n",
       "101938      101938      0.028400  3oieBBYbUOve0VpxTCpHr1   \n",
       "\n",
       "                                             analysis_url  \\\n",
       "0       https://api.spotify.com/v1/audio-analysis/5qlj...   \n",
       "1       https://api.spotify.com/v1/audio-analysis/3VAX...   \n",
       "2       https://api.spotify.com/v1/audio-analysis/1L3Y...   \n",
       "3       https://api.spotify.com/v1/audio-analysis/6aCe...   \n",
       "4       https://api.spotify.com/v1/audio-analysis/1Vo8...   \n",
       "...                                                   ...   \n",
       "101934  https://api.spotify.com/v1/audio-analysis/4e5w...   \n",
       "101935  https://api.spotify.com/v1/audio-analysis/58nH...   \n",
       "101936  https://api.spotify.com/v1/audio-analysis/2RDg...   \n",
       "101937  https://api.spotify.com/v1/audio-analysis/1pXt...   \n",
       "101938  https://api.spotify.com/v1/audio-analysis/6MzG...   \n",
       "\n",
       "                      artists_id  \\\n",
       "0       '3mxJuHRn2ZWD5OofvJtDZY'   \n",
       "1       '4xWMewm6CYMstu0sPgd9jJ'   \n",
       "2       '3hYaK5FF3YAglCj5HZgBnP'   \n",
       "3       '2KQsUB9DRBcJk17JWX1eXD'   \n",
       "4       '3hYaK5FF3YAglCj5HZgBnP'   \n",
       "...                          ...   \n",
       "101934  '6n3YUZcayLRuAunJUUelvz'   \n",
       "101935  '4iudEcmuPlYNdbP3e1bdn1'   \n",
       "101936  '4iudEcmuPlYNdbP3e1bdn1'   \n",
       "101937  '023YMawCG3OvACmRjWxLWC'   \n",
       "101938  '6OgAO7QYncP5feMijPxBxi'   \n",
       "\n",
       "                                        available_markets country  \\\n",
       "0       ['AD', 'AE', 'AR', 'AT', 'AU', 'BE', 'BG', 'BH...      BE   \n",
       "1       ['AD', 'AE', 'AR', 'AT', 'AU', 'BE', 'BG', 'BH...      BE   \n",
       "2                                                  ['GB']      BE   \n",
       "3       ['AD', 'AE', 'AR', 'AT', 'AU', 'BE', 'BG', 'BH...      BE   \n",
       "4                                                  ['GB']      BE   \n",
       "...                                                   ...     ...   \n",
       "101934                                       ['AU', 'NZ']      AR   \n",
       "101935  ['AD', 'AE', 'AR', 'AT', 'AU', 'BE', 'BG', 'BH...      AR   \n",
       "101936  ['AD', 'AE', 'AR', 'AT', 'AU', 'BE', 'BG', 'BH...      AR   \n",
       "101937  ['AD', 'AE', 'AR', 'AT', 'AU', 'BE', 'BG', 'BH...      AR   \n",
       "101938  ['AD', 'AE', 'AR', 'AT', 'AU', 'BE', 'BG', 'BH...      AR   \n",
       "\n",
       "        danceability  disc_number  duration_ms  ...  \\\n",
       "0              0.698          1.0     235584.0  ...   \n",
       "1              0.719          1.0     656960.0  ...   \n",
       "2              0.466          1.0     492840.0  ...   \n",
       "3              0.719          1.0     316578.0  ...   \n",
       "4              0.460          1.0     558880.0  ...   \n",
       "...              ...          ...          ...  ...   \n",
       "101934         0.602          1.0     178893.0  ...   \n",
       "101935         0.177          1.0     213133.0  ...   \n",
       "101936         0.539          1.0     226107.0  ...   \n",
       "101937         0.716          1.0     224133.0  ...   \n",
       "101938         0.500          1.0     251787.0  ...   \n",
       "\n",
       "                                              preview_url speechiness  \\\n",
       "0       https://p.scdn.co/mp3-preview/1b05a902da3a251d...      0.0262   \n",
       "1       https://p.scdn.co/mp3-preview/d8140736a6131cb5...      0.9220   \n",
       "2       https://p.scdn.co/mp3-preview/c8af28fb15185b18...      0.9440   \n",
       "3       https://p.scdn.co/mp3-preview/7629b8e9f31f6e9b...      0.9380   \n",
       "4       https://p.scdn.co/mp3-preview/32be593c0eb82868...      0.9430   \n",
       "...                                                   ...         ...   \n",
       "101934  https://p.scdn.co/mp3-preview/06f1c1e06ce801d5...      0.0327   \n",
       "101935  https://p.scdn.co/mp3-preview/c5a00b395106508f...      0.0604   \n",
       "101936  https://p.scdn.co/mp3-preview/128c860edbac0c6e...      0.0653   \n",
       "101937  https://p.scdn.co/mp3-preview/447bbc0bf9324173...      0.1510   \n",
       "101938  https://p.scdn.co/mp3-preview/c3d9e399a329d25d...      0.0324   \n",
       "\n",
       "          tempo  time_signature  \\\n",
       "0       115.018             4.0   \n",
       "1       115.075             3.0   \n",
       "2        79.565             4.0   \n",
       "3       112.822             3.0   \n",
       "4        81.260             4.0   \n",
       "...         ...             ...   \n",
       "101934  130.186             4.0   \n",
       "101935  184.260             4.0   \n",
       "101936  118.043             4.0   \n",
       "101937  110.015             4.0   \n",
       "101938  139.749             4.0   \n",
       "\n",
       "                                               track_href  track_name_prev  \\\n",
       "0       https://api.spotify.com/v1/tracks/5qljLQuKnNJf...         track_14   \n",
       "1       https://api.spotify.com/v1/tracks/3VAX2MJdmdqA...          track_3   \n",
       "2       https://api.spotify.com/v1/tracks/1L3YAhsEMrGV...          track_4   \n",
       "3       https://api.spotify.com/v1/tracks/6aCe9zzoZmCo...          track_9   \n",
       "4       https://api.spotify.com/v1/tracks/1Vo802A38tPF...          track_2   \n",
       "...                                                   ...              ...   \n",
       "101934  https://api.spotify.com/v1/tracks/4e5wI6VC4eVD...         track_10   \n",
       "101935  https://api.spotify.com/v1/tracks/58nHFSWj5N5J...         track_16   \n",
       "101936  https://api.spotify.com/v1/tracks/2RDgs05sg2vr...         track_21   \n",
       "101937  https://api.spotify.com/v1/tracks/1pXtUVmSS3Ak...         track_26   \n",
       "101938  https://api.spotify.com/v1/tracks/6MzG4xUhUHNL...         track_30   \n",
       "\n",
       "        track_number                                   uri  valence   type  \n",
       "0                1.0  spotify:track:5qljLQuKnNJf4F4vfxQB0V   0.6220  track  \n",
       "1                3.0  spotify:track:3VAX2MJdmdqARLSU5hPMpm   0.5890  track  \n",
       "2                4.0  spotify:track:1L3YAhsEMrGVvCgDXj2TYn   0.0850  track  \n",
       "3                1.0  spotify:track:6aCe9zzoZmCojX7bbgKKtf   0.5330  track  \n",
       "4                2.0  spotify:track:1Vo802A38tPFHmje1h91um   0.0906  track  \n",
       "...              ...                                   ...      ...    ...  \n",
       "101934           4.0  spotify:track:4e5wI6VC4eVDTtpyZ409Pw   0.7870  track  \n",
       "101935           7.0  spotify:track:58nHFSWj5N5JxNtWgS85TL   0.3630  track  \n",
       "101936           2.0  spotify:track:2RDgs05sg2vrpwiAEUkWd0   0.4060  track  \n",
       "101937           5.0  spotify:track:1pXtUVmSS3Aky3j6nQ4sQT   0.7600  track  \n",
       "101938           9.0  spotify:track:6MzG4xUhUHNLZBe3RAC2cX   0.6410  track  \n",
       "\n",
       "[101939 rows x 32 columns]"
      ]
     },
     "execution_count": 20,
     "metadata": {},
     "output_type": "execute_result"
    }
   ],
   "source": [
    "df_tracks"
   ]
  },
  {
   "cell_type": "code",
   "execution_count": 72,
   "metadata": {},
   "outputs": [
    {
     "name": "stdout",
     "output_type": "stream",
     "text": [
      "<class 'pandas.core.frame.DataFrame'>\n",
      "Int64Index: 77845 entries, 0 to 77844\n",
      "Data columns (total 41 columns):\n",
      " #   Column             Non-Null Count  Dtype  \n",
      "---  ------             --------------  -----  \n",
      " 0   Unnamed: 0_x       77845 non-null  int64  \n",
      " 1   acousticness       77845 non-null  float64\n",
      " 2   album_id           77845 non-null  object \n",
      " 3   analysis_url       77845 non-null  object \n",
      " 4   artists_id         77845 non-null  object \n",
      " 5   available_markets  77845 non-null  object \n",
      " 6   country            77845 non-null  object \n",
      " 7   danceability       77845 non-null  float64\n",
      " 8   disc_number        77845 non-null  float64\n",
      " 9   duration_ms        77845 non-null  float64\n",
      " 10  energy             77845 non-null  float64\n",
      " 11  href               77845 non-null  object \n",
      " 12  tracks_id          77845 non-null  object \n",
      " 13  instrumentalness   77845 non-null  float64\n",
      " 14  key                77845 non-null  float64\n",
      " 15  liveness           77845 non-null  float64\n",
      " 16  loudness           77845 non-null  float64\n",
      " 17  lyrics             77845 non-null  object \n",
      " 18  mode               77845 non-null  float64\n",
      " 19  name_x             77845 non-null  object \n",
      " 20  playlist           77845 non-null  object \n",
      " 21  popularity         77845 non-null  float64\n",
      " 22  preview_url        77845 non-null  object \n",
      " 23  speechiness        77845 non-null  float64\n",
      " 24  tempo              77845 non-null  float64\n",
      " 25  time_signature     77845 non-null  float64\n",
      " 26  track_href         77845 non-null  object \n",
      " 27  track_name_prev_x  77845 non-null  object \n",
      " 28  track_number       77845 non-null  float64\n",
      " 29  uri                77845 non-null  object \n",
      " 30  valence            77845 non-null  float64\n",
      " 31  type_x             77845 non-null  object \n",
      " 32  Unnamed: 0_y       77845 non-null  int64  \n",
      " 33  artist_popularity  77845 non-null  int64  \n",
      " 34  followers          77845 non-null  int64  \n",
      " 35  genres             77845 non-null  object \n",
      " 36  id                 77845 non-null  object \n",
      " 37  name_y             77845 non-null  object \n",
      " 38  track_id           77845 non-null  object \n",
      " 39  track_name_prev_y  77845 non-null  object \n",
      " 40  type_y             77845 non-null  object \n",
      "dtypes: float64(16), int64(4), object(21)\n",
      "memory usage: 24.9+ MB\n"
     ]
    }
   ],
   "source": [
    "# Remove square brackets and quotes\n",
    "df_tracks['artists_id'] = df_tracks['artists_id'].str.strip(\"[]\").str.replace(\"'\",\"\")\n",
    "\n",
    "#replace id with tracks_id\n",
    "df_tracks.rename(columns={'id':'tracks_id'}, inplace=True)\n",
    "\n",
    "\n",
    "# Merge both dataframes\n",
    "df_artists_tracks_orig = pd.merge(df_tracks, df_artists, left_on='artists_id', right_on='id', how='inner')\n",
    "df_artists_tracks = pd.merge(df_tracks, df_artists, left_on='artists_id', right_on='id', how='inner')\n",
    "df_artists_tracks.info()"
   ]
  },
  {
   "cell_type": "code",
   "execution_count": 73,
   "metadata": {},
   "outputs": [],
   "source": [
    "df_artists_tracks['genres'] = df_artists_tracks['genres'].apply(lambda x: x if x else [\"Unknown\"])"
   ]
  },
  {
   "cell_type": "code",
   "execution_count": 28,
   "metadata": {},
   "outputs": [
    {
     "data": {
      "application/vnd.plotly.v1+json": {
       "config": {
        "plotlyServerURL": "https://plot.ly"
       },
       "data": [
        {
         "alignmentgroup": "True",
         "hovertemplate": "variable=valence<br>genres=%{x}<br>value=%{y}<extra></extra>",
         "legendgroup": "valence",
         "marker": {
          "color": "#636efa",
          "pattern": {
           "shape": ""
          }
         },
         "name": "valence",
         "offsetgroup": "valence",
         "orientation": "v",
         "showlegend": true,
         "textposition": "auto",
         "type": "bar",
         "x": [
          "['dance pop', 'pop', 'post-teen pop']",
          "['emo', 'modern rock', 'pop punk']",
          "['reggaeton', 'trap latino']",
          "['argentine hip hop', 'trap argentino', 'trap latino']",
          "['pop', 'pop rap', 'rap']",
          "['trap music']",
          "['atl hip hop', 'pop rap', 'rap', 'trap music']",
          "['dance pop', 'electropop', 'pop']",
          "['cali rap', 'trap music']",
          "['rap', 'trap music']"
         ],
         "xaxis": "x",
         "y": [
          0.628,
          0.681,
          0.533,
          0.72,
          0.446,
          0.74,
          0.274,
          0.483,
          0.391,
          0.536
         ],
         "yaxis": "y"
        },
        {
         "alignmentgroup": "True",
         "hovertemplate": "variable=energy<br>genres=%{x}<br>value=%{y}<extra></extra>",
         "legendgroup": "energy",
         "marker": {
          "color": "#EF553B",
          "pattern": {
           "shape": ""
          }
         },
         "name": "energy",
         "offsetgroup": "energy",
         "orientation": "v",
         "showlegend": true,
         "textposition": "auto",
         "type": "bar",
         "x": [
          "['dance pop', 'pop', 'post-teen pop']",
          "['emo', 'modern rock', 'pop punk']",
          "['reggaeton', 'trap latino']",
          "['argentine hip hop', 'trap argentino', 'trap latino']",
          "['pop', 'pop rap', 'rap']",
          "['trap music']",
          "['atl hip hop', 'pop rap', 'rap', 'trap music']",
          "['dance pop', 'electropop', 'pop']",
          "['cali rap', 'trap music']",
          "['rap', 'trap music']"
         ],
         "xaxis": "x",
         "y": [
          0.704,
          0.904,
          0.754,
          0.709,
          0.73,
          0.73,
          0.636,
          0.557,
          0.382,
          0.587
         ],
         "yaxis": "y"
        },
        {
         "alignmentgroup": "True",
         "hovertemplate": "variable=danceability<br>genres=%{x}<br>value=%{y}<extra></extra>",
         "legendgroup": "danceability",
         "marker": {
          "color": "#00cc96",
          "pattern": {
           "shape": ""
          }
         },
         "name": "danceability",
         "offsetgroup": "danceability",
         "orientation": "v",
         "showlegend": true,
         "textposition": "auto",
         "type": "bar",
         "x": [
          "['dance pop', 'pop', 'post-teen pop']",
          "['emo', 'modern rock', 'pop punk']",
          "['reggaeton', 'trap latino']",
          "['argentine hip hop', 'trap argentino', 'trap latino']",
          "['pop', 'pop rap', 'rap']",
          "['trap music']",
          "['atl hip hop', 'pop rap', 'rap', 'trap music']",
          "['dance pop', 'electropop', 'pop']",
          "['cali rap', 'trap music']",
          "['rap', 'trap music']"
         ],
         "xaxis": "x",
         "y": [
          0.719,
          0.579,
          0.816,
          0.767,
          0.834,
          0.759,
          0.837,
          0.652,
          0.906,
          0.791
         ],
         "yaxis": "y"
        },
        {
         "alignmentgroup": "True",
         "hovertemplate": "variable=acousticness<br>genres=%{x}<br>value=%{y}<extra></extra>",
         "legendgroup": "acousticness",
         "marker": {
          "color": "#ab63fa",
          "pattern": {
           "shape": ""
          }
         },
         "name": "acousticness",
         "offsetgroup": "acousticness",
         "orientation": "v",
         "showlegend": true,
         "textposition": "auto",
         "type": "bar",
         "x": [
          "['dance pop', 'pop', 'post-teen pop']",
          "['emo', 'modern rock', 'pop punk']",
          "['reggaeton', 'trap latino']",
          "['argentine hip hop', 'trap argentino', 'trap latino']",
          "['pop', 'pop rap', 'rap']",
          "['trap music']",
          "['atl hip hop', 'pop rap', 'rap', 'trap music']",
          "['dance pop', 'electropop', 'pop']",
          "['cali rap', 'trap music']",
          "['rap', 'trap music']"
         ],
         "xaxis": "x",
         "y": [
          0.0691,
          0.193,
          0.0361,
          0.323,
          0.00513,
          0.145,
          0.0395,
          0.74,
          0.18,
          0.407
         ],
         "yaxis": "y"
        }
       ],
       "layout": {
        "barmode": "group",
        "legend": {
         "title": {
          "text": "variable"
         },
         "tracegroupgap": 0
        },
        "margin": {
         "t": 60
        },
        "template": {
         "data": {
          "bar": [
           {
            "error_x": {
             "color": "#2a3f5f"
            },
            "error_y": {
             "color": "#2a3f5f"
            },
            "marker": {
             "line": {
              "color": "#E5ECF6",
              "width": 0.5
             },
             "pattern": {
              "fillmode": "overlay",
              "size": 10,
              "solidity": 0.2
             }
            },
            "type": "bar"
           }
          ],
          "barpolar": [
           {
            "marker": {
             "line": {
              "color": "#E5ECF6",
              "width": 0.5
             },
             "pattern": {
              "fillmode": "overlay",
              "size": 10,
              "solidity": 0.2
             }
            },
            "type": "barpolar"
           }
          ],
          "carpet": [
           {
            "aaxis": {
             "endlinecolor": "#2a3f5f",
             "gridcolor": "white",
             "linecolor": "white",
             "minorgridcolor": "white",
             "startlinecolor": "#2a3f5f"
            },
            "baxis": {
             "endlinecolor": "#2a3f5f",
             "gridcolor": "white",
             "linecolor": "white",
             "minorgridcolor": "white",
             "startlinecolor": "#2a3f5f"
            },
            "type": "carpet"
           }
          ],
          "choropleth": [
           {
            "colorbar": {
             "outlinewidth": 0,
             "ticks": ""
            },
            "type": "choropleth"
           }
          ],
          "contour": [
           {
            "colorbar": {
             "outlinewidth": 0,
             "ticks": ""
            },
            "colorscale": [
             [
              0,
              "#0d0887"
             ],
             [
              0.1111111111111111,
              "#46039f"
             ],
             [
              0.2222222222222222,
              "#7201a8"
             ],
             [
              0.3333333333333333,
              "#9c179e"
             ],
             [
              0.4444444444444444,
              "#bd3786"
             ],
             [
              0.5555555555555556,
              "#d8576b"
             ],
             [
              0.6666666666666666,
              "#ed7953"
             ],
             [
              0.7777777777777778,
              "#fb9f3a"
             ],
             [
              0.8888888888888888,
              "#fdca26"
             ],
             [
              1,
              "#f0f921"
             ]
            ],
            "type": "contour"
           }
          ],
          "contourcarpet": [
           {
            "colorbar": {
             "outlinewidth": 0,
             "ticks": ""
            },
            "type": "contourcarpet"
           }
          ],
          "heatmap": [
           {
            "colorbar": {
             "outlinewidth": 0,
             "ticks": ""
            },
            "colorscale": [
             [
              0,
              "#0d0887"
             ],
             [
              0.1111111111111111,
              "#46039f"
             ],
             [
              0.2222222222222222,
              "#7201a8"
             ],
             [
              0.3333333333333333,
              "#9c179e"
             ],
             [
              0.4444444444444444,
              "#bd3786"
             ],
             [
              0.5555555555555556,
              "#d8576b"
             ],
             [
              0.6666666666666666,
              "#ed7953"
             ],
             [
              0.7777777777777778,
              "#fb9f3a"
             ],
             [
              0.8888888888888888,
              "#fdca26"
             ],
             [
              1,
              "#f0f921"
             ]
            ],
            "type": "heatmap"
           }
          ],
          "heatmapgl": [
           {
            "colorbar": {
             "outlinewidth": 0,
             "ticks": ""
            },
            "colorscale": [
             [
              0,
              "#0d0887"
             ],
             [
              0.1111111111111111,
              "#46039f"
             ],
             [
              0.2222222222222222,
              "#7201a8"
             ],
             [
              0.3333333333333333,
              "#9c179e"
             ],
             [
              0.4444444444444444,
              "#bd3786"
             ],
             [
              0.5555555555555556,
              "#d8576b"
             ],
             [
              0.6666666666666666,
              "#ed7953"
             ],
             [
              0.7777777777777778,
              "#fb9f3a"
             ],
             [
              0.8888888888888888,
              "#fdca26"
             ],
             [
              1,
              "#f0f921"
             ]
            ],
            "type": "heatmapgl"
           }
          ],
          "histogram": [
           {
            "marker": {
             "pattern": {
              "fillmode": "overlay",
              "size": 10,
              "solidity": 0.2
             }
            },
            "type": "histogram"
           }
          ],
          "histogram2d": [
           {
            "colorbar": {
             "outlinewidth": 0,
             "ticks": ""
            },
            "colorscale": [
             [
              0,
              "#0d0887"
             ],
             [
              0.1111111111111111,
              "#46039f"
             ],
             [
              0.2222222222222222,
              "#7201a8"
             ],
             [
              0.3333333333333333,
              "#9c179e"
             ],
             [
              0.4444444444444444,
              "#bd3786"
             ],
             [
              0.5555555555555556,
              "#d8576b"
             ],
             [
              0.6666666666666666,
              "#ed7953"
             ],
             [
              0.7777777777777778,
              "#fb9f3a"
             ],
             [
              0.8888888888888888,
              "#fdca26"
             ],
             [
              1,
              "#f0f921"
             ]
            ],
            "type": "histogram2d"
           }
          ],
          "histogram2dcontour": [
           {
            "colorbar": {
             "outlinewidth": 0,
             "ticks": ""
            },
            "colorscale": [
             [
              0,
              "#0d0887"
             ],
             [
              0.1111111111111111,
              "#46039f"
             ],
             [
              0.2222222222222222,
              "#7201a8"
             ],
             [
              0.3333333333333333,
              "#9c179e"
             ],
             [
              0.4444444444444444,
              "#bd3786"
             ],
             [
              0.5555555555555556,
              "#d8576b"
             ],
             [
              0.6666666666666666,
              "#ed7953"
             ],
             [
              0.7777777777777778,
              "#fb9f3a"
             ],
             [
              0.8888888888888888,
              "#fdca26"
             ],
             [
              1,
              "#f0f921"
             ]
            ],
            "type": "histogram2dcontour"
           }
          ],
          "mesh3d": [
           {
            "colorbar": {
             "outlinewidth": 0,
             "ticks": ""
            },
            "type": "mesh3d"
           }
          ],
          "parcoords": [
           {
            "line": {
             "colorbar": {
              "outlinewidth": 0,
              "ticks": ""
             }
            },
            "type": "parcoords"
           }
          ],
          "pie": [
           {
            "automargin": true,
            "type": "pie"
           }
          ],
          "scatter": [
           {
            "marker": {
             "colorbar": {
              "outlinewidth": 0,
              "ticks": ""
             }
            },
            "type": "scatter"
           }
          ],
          "scatter3d": [
           {
            "line": {
             "colorbar": {
              "outlinewidth": 0,
              "ticks": ""
             }
            },
            "marker": {
             "colorbar": {
              "outlinewidth": 0,
              "ticks": ""
             }
            },
            "type": "scatter3d"
           }
          ],
          "scattercarpet": [
           {
            "marker": {
             "colorbar": {
              "outlinewidth": 0,
              "ticks": ""
             }
            },
            "type": "scattercarpet"
           }
          ],
          "scattergeo": [
           {
            "marker": {
             "colorbar": {
              "outlinewidth": 0,
              "ticks": ""
             }
            },
            "type": "scattergeo"
           }
          ],
          "scattergl": [
           {
            "marker": {
             "colorbar": {
              "outlinewidth": 0,
              "ticks": ""
             }
            },
            "type": "scattergl"
           }
          ],
          "scattermapbox": [
           {
            "marker": {
             "colorbar": {
              "outlinewidth": 0,
              "ticks": ""
             }
            },
            "type": "scattermapbox"
           }
          ],
          "scatterpolar": [
           {
            "marker": {
             "colorbar": {
              "outlinewidth": 0,
              "ticks": ""
             }
            },
            "type": "scatterpolar"
           }
          ],
          "scatterpolargl": [
           {
            "marker": {
             "colorbar": {
              "outlinewidth": 0,
              "ticks": ""
             }
            },
            "type": "scatterpolargl"
           }
          ],
          "scatterternary": [
           {
            "marker": {
             "colorbar": {
              "outlinewidth": 0,
              "ticks": ""
             }
            },
            "type": "scatterternary"
           }
          ],
          "surface": [
           {
            "colorbar": {
             "outlinewidth": 0,
             "ticks": ""
            },
            "colorscale": [
             [
              0,
              "#0d0887"
             ],
             [
              0.1111111111111111,
              "#46039f"
             ],
             [
              0.2222222222222222,
              "#7201a8"
             ],
             [
              0.3333333333333333,
              "#9c179e"
             ],
             [
              0.4444444444444444,
              "#bd3786"
             ],
             [
              0.5555555555555556,
              "#d8576b"
             ],
             [
              0.6666666666666666,
              "#ed7953"
             ],
             [
              0.7777777777777778,
              "#fb9f3a"
             ],
             [
              0.8888888888888888,
              "#fdca26"
             ],
             [
              1,
              "#f0f921"
             ]
            ],
            "type": "surface"
           }
          ],
          "table": [
           {
            "cells": {
             "fill": {
              "color": "#EBF0F8"
             },
             "line": {
              "color": "white"
             }
            },
            "header": {
             "fill": {
              "color": "#C8D4E3"
             },
             "line": {
              "color": "white"
             }
            },
            "type": "table"
           }
          ]
         },
         "layout": {
          "annotationdefaults": {
           "arrowcolor": "#2a3f5f",
           "arrowhead": 0,
           "arrowwidth": 1
          },
          "autotypenumbers": "strict",
          "coloraxis": {
           "colorbar": {
            "outlinewidth": 0,
            "ticks": ""
           }
          },
          "colorscale": {
           "diverging": [
            [
             0,
             "#8e0152"
            ],
            [
             0.1,
             "#c51b7d"
            ],
            [
             0.2,
             "#de77ae"
            ],
            [
             0.3,
             "#f1b6da"
            ],
            [
             0.4,
             "#fde0ef"
            ],
            [
             0.5,
             "#f7f7f7"
            ],
            [
             0.6,
             "#e6f5d0"
            ],
            [
             0.7,
             "#b8e186"
            ],
            [
             0.8,
             "#7fbc41"
            ],
            [
             0.9,
             "#4d9221"
            ],
            [
             1,
             "#276419"
            ]
           ],
           "sequential": [
            [
             0,
             "#0d0887"
            ],
            [
             0.1111111111111111,
             "#46039f"
            ],
            [
             0.2222222222222222,
             "#7201a8"
            ],
            [
             0.3333333333333333,
             "#9c179e"
            ],
            [
             0.4444444444444444,
             "#bd3786"
            ],
            [
             0.5555555555555556,
             "#d8576b"
            ],
            [
             0.6666666666666666,
             "#ed7953"
            ],
            [
             0.7777777777777778,
             "#fb9f3a"
            ],
            [
             0.8888888888888888,
             "#fdca26"
            ],
            [
             1,
             "#f0f921"
            ]
           ],
           "sequentialminus": [
            [
             0,
             "#0d0887"
            ],
            [
             0.1111111111111111,
             "#46039f"
            ],
            [
             0.2222222222222222,
             "#7201a8"
            ],
            [
             0.3333333333333333,
             "#9c179e"
            ],
            [
             0.4444444444444444,
             "#bd3786"
            ],
            [
             0.5555555555555556,
             "#d8576b"
            ],
            [
             0.6666666666666666,
             "#ed7953"
            ],
            [
             0.7777777777777778,
             "#fb9f3a"
            ],
            [
             0.8888888888888888,
             "#fdca26"
            ],
            [
             1,
             "#f0f921"
            ]
           ]
          },
          "colorway": [
           "#636efa",
           "#EF553B",
           "#00cc96",
           "#ab63fa",
           "#FFA15A",
           "#19d3f3",
           "#FF6692",
           "#B6E880",
           "#FF97FF",
           "#FECB52"
          ],
          "font": {
           "color": "#2a3f5f"
          },
          "geo": {
           "bgcolor": "white",
           "lakecolor": "white",
           "landcolor": "#E5ECF6",
           "showlakes": true,
           "showland": true,
           "subunitcolor": "white"
          },
          "hoverlabel": {
           "align": "left"
          },
          "hovermode": "closest",
          "mapbox": {
           "style": "light"
          },
          "paper_bgcolor": "white",
          "plot_bgcolor": "#E5ECF6",
          "polar": {
           "angularaxis": {
            "gridcolor": "white",
            "linecolor": "white",
            "ticks": ""
           },
           "bgcolor": "#E5ECF6",
           "radialaxis": {
            "gridcolor": "white",
            "linecolor": "white",
            "ticks": ""
           }
          },
          "scene": {
           "xaxis": {
            "backgroundcolor": "#E5ECF6",
            "gridcolor": "white",
            "gridwidth": 2,
            "linecolor": "white",
            "showbackground": true,
            "ticks": "",
            "zerolinecolor": "white"
           },
           "yaxis": {
            "backgroundcolor": "#E5ECF6",
            "gridcolor": "white",
            "gridwidth": 2,
            "linecolor": "white",
            "showbackground": true,
            "ticks": "",
            "zerolinecolor": "white"
           },
           "zaxis": {
            "backgroundcolor": "#E5ECF6",
            "gridcolor": "white",
            "gridwidth": 2,
            "linecolor": "white",
            "showbackground": true,
            "ticks": "",
            "zerolinecolor": "white"
           }
          },
          "shapedefaults": {
           "line": {
            "color": "#2a3f5f"
           }
          },
          "ternary": {
           "aaxis": {
            "gridcolor": "white",
            "linecolor": "white",
            "ticks": ""
           },
           "baxis": {
            "gridcolor": "white",
            "linecolor": "white",
            "ticks": ""
           },
           "bgcolor": "#E5ECF6",
           "caxis": {
            "gridcolor": "white",
            "linecolor": "white",
            "ticks": ""
           }
          },
          "title": {
           "x": 0.05
          },
          "xaxis": {
           "automargin": true,
           "gridcolor": "white",
           "linecolor": "white",
           "ticks": "",
           "title": {
            "standoff": 15
           },
           "zerolinecolor": "white",
           "zerolinewidth": 2
          },
          "yaxis": {
           "automargin": true,
           "gridcolor": "white",
           "linecolor": "white",
           "ticks": "",
           "title": {
            "standoff": 15
           },
           "zerolinecolor": "white",
           "zerolinewidth": 2
          }
         }
        },
        "xaxis": {
         "anchor": "y",
         "domain": [
          0,
          1
         ],
         "title": {
          "text": "genres"
         }
        },
        "yaxis": {
         "anchor": "x",
         "domain": [
          0,
          1
         ],
         "title": {
          "text": "value"
         }
        }
       }
      }
     },
     "metadata": {},
     "output_type": "display_data"
    }
   ],
   "source": [
    "top10_genres = df_artists_tracks.nlargest(10, 'popularity')\n",
    "\n",
    "fig = px.bar(top10_genres, x='genres', y=['valence', 'energy', 'danceability', 'acousticness'], barmode='group')\n",
    "fig.show()"
   ]
  },
  {
   "cell_type": "code",
   "execution_count": 5,
   "metadata": {},
   "outputs": [
    {
     "name": "stdout",
     "output_type": "stream",
     "text": [
      "<class 'pandas.core.frame.DataFrame'>\n",
      "Int64Index: 77845 entries, 0 to 77844\n",
      "Data columns (total 20 columns):\n",
      " #   Column             Non-Null Count  Dtype  \n",
      "---  ------             --------------  -----  \n",
      " 0   Unnamed: 0_x       77845 non-null  int64  \n",
      " 1   acousticness       77845 non-null  float64\n",
      " 2   danceability       77845 non-null  float64\n",
      " 3   disc_number        77845 non-null  float64\n",
      " 4   duration_ms        77845 non-null  float64\n",
      " 5   energy             77845 non-null  float64\n",
      " 6   instrumentalness   77845 non-null  float64\n",
      " 7   key                77845 non-null  float64\n",
      " 8   liveness           77845 non-null  float64\n",
      " 9   loudness           77845 non-null  float64\n",
      " 10  mode               77845 non-null  float64\n",
      " 11  popularity         77845 non-null  float64\n",
      " 12  speechiness        77845 non-null  float64\n",
      " 13  tempo              77845 non-null  float64\n",
      " 14  time_signature     77845 non-null  float64\n",
      " 15  track_number       77845 non-null  float64\n",
      " 16  valence            77845 non-null  float64\n",
      " 17  Unnamed: 0_y       77845 non-null  int64  \n",
      " 18  artist_popularity  77845 non-null  int64  \n",
      " 19  followers          77845 non-null  int64  \n",
      "dtypes: float64(16), int64(4)\n",
      "memory usage: 12.5 MB\n"
     ]
    }
   ],
   "source": [
    "X = df_artists_tracks.select_dtypes(np.number)\n",
    "X.info()"
   ]
  },
  {
   "cell_type": "code",
   "execution_count": 74,
   "metadata": {},
   "outputs": [],
   "source": [
    "from sklearn.preprocessing import MinMaxScaler\n",
    "from sklearn.cluster import DBSCAN\n",
    "\n",
    "metric_pipeline = Pipeline(steps=[\n",
    "    ('scaler', MinMaxScaler()),\n",
    "    ('dbscan', DBSCAN(eps=0.3, min_samples=5))\n",
    "])"
   ]
  },
  {
   "cell_type": "code",
   "execution_count": 100,
   "metadata": {},
   "outputs": [
    {
     "data": {
      "image/png": "[encoded data removed]",
      "text/plain": [
       "<Figure size 720x360 with 1 Axes>"
      ]
     },
     "metadata": {
      "needs_background": "light"
     },
     "output_type": "display_data"
    }
   ],
   "source": [
    "from sklearn.neighbors import NearestNeighbors\n",
    "\n",
    "# Choose min_samples: should be chosen based on domain knowledge\n",
    "min_samples = 5\n",
    "\n",
    "# Define NearestNeighbors\n",
    "nn = NearestNeighbors(n_neighbors=min_samples)\n",
    "\n",
    "# Fit the NearestNeighbors model\n",
    "nn_model = nn.fit(df_artists_tracks[metric_features])\n",
    "\n",
    "# Find the k-neighbors of each point in the dataset\n",
    "distances, _ = nn_model.kneighbors(df_artists_tracks[metric_features])\n",
    "\n",
    "# Sort the distances and take the largest one for each point\n",
    "distances = np.sort(distances, axis=0)\n",
    "distances = distances[:, -1]\n",
    "\n",
    "import matplotlib.pyplot as plt\n",
    "\n",
    "plt.figure(figsize=(10,5))\n",
    "plt.plot(distances)\n",
    "plt.xlabel(\"Samples sorted by distance\")\n",
    "plt.ylabel(\"Epsilon\")\n",
    "plt.show()"
   ]
  },
  {
   "cell_type": "code",
   "execution_count": 75,
   "metadata": {},
   "outputs": [],
   "source": [
    "# List of metric features\n",
    "metric_features = ['acousticness', 'danceability', 'duration_ms', 'energy', 'instrumentalness', 'key', 'liveness', \n",
    "                   'loudness', 'mode', 'popularity', 'speechiness', 'tempo', 'time_signature', 'valence', \n",
    "                   'artist_popularity', 'followers']\n",
    "\n",
    "# Fit and transform the data\n",
    "metric_labels = metric_pipeline.fit_predict(df_artists_tracks[metric_features])"
   ]
  },
  {
   "cell_type": "code",
   "execution_count": 76,
   "metadata": {},
   "outputs": [],
   "source": [
    "from sklearn.preprocessing import MultiLabelBinarizer\n",
    "\n",
    "# Initialize the MultiLabelBinarizer\n",
    "mlb = MultiLabelBinarizer()\n",
    "\n",
    "# Fit and transform the genres\n",
    "genres_binarized = mlb.fit_transform(df_artists_tracks['genres'])\n",
    "\n",
    "# Convert the binarized genres to a DataFrame\n",
    "genres_df = pd.DataFrame(genres_binarized, columns=mlb.classes_)\n",
    "\n",
    "# Add the genres to the main dataframe\n",
    "df_artists_tracks = pd.concat([df_artists_tracks.drop('genres', axis=1), genres_df], axis=1)\n",
    "\n"
   ]
  },
  {
   "cell_type": "code",
   "execution_count": 77,
   "metadata": {},
   "outputs": [],
   "source": [
    "from sklearn.cluster import KMeans\n",
    "\n",
    "# Define the number of clusters\n",
    "n_clusters = 10  # Change this based on your needs\n",
    "\n",
    "# Define a pipeline for genre features\n",
    "genre_pipeline = Pipeline(steps=[\n",
    "    ('kmeans', KMeans(n_clusters=n_clusters))\n",
    "])\n",
    "\n",
    "# Fit the data\n",
    "genre_labels = genre_pipeline.fit_predict(genres_df)\n"
   ]
  },
  {
   "cell_type": "code",
   "execution_count": 78,
   "metadata": {},
   "outputs": [],
   "source": [
    "df_artists_tracks['genre_cluster'] = genre_labels\n",
    "df_artists_tracks['metric_cluster'] = metric_labels\n"
   ]
  },
  {
   "cell_type": "code",
   "execution_count": 79,
   "metadata": {},
   "outputs": [],
   "source": [
    "# Define your metric features\n",
    "metric_features = ['acousticness', 'danceability', 'duration_ms', 'energy', 'instrumentalness', \n",
    "                   'key', 'liveness', 'loudness', 'mode', 'popularity', 'speechiness', \n",
    "                   'tempo', 'time_signature', 'valence', 'artist_popularity', 'followers',\n",
    "                   'genre_cluster', 'metric_cluster']\n",
    "\n",
    "# Fit the NearestNeighbors model\n",
    "knn = NearestNeighbors(n_neighbors=10)  # Change n_neighbors based on your needs\n",
    "knn.fit(df_artists_tracks[metric_features])\n",
    "\n",
    "# Write a function that uses the model to recommend songs\n",
    "def recommend_songs_knn2(song_id, df, n_recommendations):\n",
    "    song_features = df[df['tracks_id'] == song_id][metric_features]\n",
    "    \n",
    "    distances, indices = knn.kneighbors(song_features)\n",
    "    \n",
    "    song_list = []\n",
    "    for i in range(len(distances.flatten())):\n",
    "        if i == 0:\n",
    "            print(f'Recommendations for {song_id}:\\n')\n",
    "        else:\n",
    "            song_list.append(df.iloc[indices.flatten()[i]]['tracks_id'])\n",
    "            print(f'{i}: {df.iloc[indices.flatten()[i]][\"tracks_id\"]}, with distance of {distances.flatten()[i]}')\n",
    "\n",
    "    return song_list\n"
   ]
  },
  {
   "cell_type": "code",
   "execution_count": 86,
   "metadata": {},
   "outputs": [],
   "source": [
    "def recommend_songs_knn(song_id, df, n_recommendations):\n",
    "    # Get the genre_cluster and metric_cluster of the song\n",
    "    song_clusters = df.loc[df['tracks_id'] == song_id, ['genre_cluster', 'metric_cluster']]\n",
    "    genre_cluster = song_clusters['genre_cluster'].values[0]\n",
    "    metric_cluster = song_clusters['metric_cluster'].values[0]\n",
    "\n",
    "    # Get all songs within the same genre and metric clusters\n",
    "    same_clusters = df[(df['genre_cluster'] == genre_cluster) & (df['metric_cluster'] == metric_cluster)]\n",
    "    if len(same_clusters) >= n_recommendations:\n",
    "        # If enough songs, compute KNN within the same genre and metric clusters\n",
    "        song_features = same_clusters[same_clusters['tracks_id'] == song_id][metric_features]\n",
    "        knn = NearestNeighbors(n_neighbors=n_recommendations)\n",
    "        knn.fit(same_clusters[metric_features])\n",
    "        distances, indices = knn.kneighbors(song_features)\n",
    "    else:\n",
    "        # Otherwise, get all songs within the same genre or metric cluster\n",
    "        same_clusters = df[(df['genre_cluster'] == genre_cluster) | (df['metric_cluster'] == metric_cluster)]\n",
    "        if len(same_clusters) >= n_recommendations:\n",
    "            # If enough songs, compute KNN within the same genre or metric clusters\n",
    "            song_features = same_clusters[same_clusters['tracks_id'] == song_id][metric_features]\n",
    "            knn = NearestNeighbors(n_neighbors=n_recommendations)\n",
    "            knn.fit(same_clusters[metric_features])\n",
    "            distances, indices = knn.kneighbors(song_features)\n",
    "        else:\n",
    "            # If still not enough songs, compute KNN across all songs\n",
    "            song_features = df[df['tracks_id'] == song_id][metric_features]\n",
    "            knn = NearestNeighbors(n_neighbors=n_recommendations)\n",
    "            knn.fit(df[metric_features])\n",
    "            distances, indices = knn.kneighbors(song_features)\n",
    "\n",
    "    # Print and return the recommendations\n",
    "    song_list = []\n",
    "    for i in range(len(distances.flatten())):\n",
    "        if i == 0:\n",
    "            print(f'Recommendations for {song_id}:\\n')\n",
    "        else:\n",
    "            song_list.append(df.iloc[indices.flatten()[i]]['tracks_id'])\n",
    "            print(f'{i}: {df.iloc[indices.flatten()[i]][\"tracks_id\"]}, with distance of {distances.flatten()[i]}')\n",
    "\n",
    "    return song_list\n"
   ]
  },
  {
   "cell_type": "code",
   "execution_count": 99,
   "metadata": {},
   "outputs": [
    {
     "name": "stdout",
     "output_type": "stream",
     "text": [
      "Recommendations for 5qljLQuKnNJf4F4vfxQB0V:\n",
      "\n",
      "1: 6ileHaSaGI8UjUK1jQu6jm, with distance of 300.2944593204876\n",
      "2: 3Ee7yQ1JmAkSOzCxn7ZVj7, with distance of 407.7842679478832\n",
      "3: 6h8E7Zi73yyFx6wAN0q85b, with distance of 472.25629201547497\n",
      "4: 2nwqu5nbKy4P4w117435zj, with distance of 617.1705451278249\n",
      "5: 56AecW9Anb0CY6HpgWvcg9, with distance of 743.9271156184294\n",
      "6: 0oakHTPj4SF7Si0NAsLwi8, with distance of 831.4220272443381\n",
      "7: 0p9zxloVaytLMbORCBMfwO, with distance of 952.7787443903353\n",
      "8: 433JymbpWnRMHXzp1oTRP7, with distance of 1302.4897773590458\n",
      "9: 6kSMUoQA3VSMWOk2ni0hfD, with distance of 1366.604776130748\n"
     ]
    },
    {
     "data": {
      "text/html": [
       "<div>\n",
       "<style scoped>\n",
       "    .dataframe tbody tr th:only-of-type {\n",
       "        vertical-align: middle;\n",
       "    }\n",
       "\n",
       "    .dataframe tbody tr th {\n",
       "        vertical-align: top;\n",
       "    }\n",
       "\n",
       "    .dataframe thead th {\n",
       "        text-align: right;\n",
       "    }\n",
       "</style>\n",
       "<table border=\"1\" class=\"dataframe\">\n",
       "  <thead>\n",
       "    <tr style=\"text-align: right;\">\n",
       "      <th></th>\n",
       "      <th>Unnamed: 0_x</th>\n",
       "      <th>acousticness</th>\n",
       "      <th>album_id</th>\n",
       "      <th>analysis_url</th>\n",
       "      <th>artists_id</th>\n",
       "      <th>available_markets</th>\n",
       "      <th>country</th>\n",
       "      <th>danceability</th>\n",
       "      <th>disc_number</th>\n",
       "      <th>duration_ms</th>\n",
       "      <th>...</th>\n",
       "      <th>type_x</th>\n",
       "      <th>Unnamed: 0_y</th>\n",
       "      <th>artist_popularity</th>\n",
       "      <th>followers</th>\n",
       "      <th>genres</th>\n",
       "      <th>id</th>\n",
       "      <th>name_y</th>\n",
       "      <th>track_id</th>\n",
       "      <th>track_name_prev_y</th>\n",
       "      <th>type_y</th>\n",
       "    </tr>\n",
       "  </thead>\n",
       "  <tbody>\n",
       "    <tr>\n",
       "      <th>13</th>\n",
       "      <td>7</td>\n",
       "      <td>0.71900</td>\n",
       "      <td>4tKijjmxGClg4JOLAyo2qE</td>\n",
       "      <td>https://api.spotify.com/v1/audio-analysis/6ile...</td>\n",
       "      <td>3hYaK5FF3YAglCj5HZgBnP</td>\n",
       "      <td>['GB']</td>\n",
       "      <td>BE</td>\n",
       "      <td>0.513</td>\n",
       "      <td>1.0</td>\n",
       "      <td>591160.0</td>\n",
       "      <td>...</td>\n",
       "      <td>track</td>\n",
       "      <td>51</td>\n",
       "      <td>41</td>\n",
       "      <td>14288</td>\n",
       "      <td>['british comedy', 'comedy']</td>\n",
       "      <td>3hYaK5FF3YAglCj5HZgBnP</td>\n",
       "      <td>Jimmy Carr</td>\n",
       "      <td>0xZwriIAl9tEmACBOzEOk0</td>\n",
       "      <td>track_1</td>\n",
       "      <td>artist</td>\n",
       "    </tr>\n",
       "    <tr>\n",
       "      <th>22</th>\n",
       "      <td>23244</td>\n",
       "      <td>0.76200</td>\n",
       "      <td>4tKijjmxGClg4JOLAyo2qE</td>\n",
       "      <td>https://api.spotify.com/v1/audio-analysis/3Ee7...</td>\n",
       "      <td>3hYaK5FF3YAglCj5HZgBnP</td>\n",
       "      <td>['GB']</td>\n",
       "      <td>BE</td>\n",
       "      <td>0.507</td>\n",
       "      <td>1.0</td>\n",
       "      <td>501640.0</td>\n",
       "      <td>...</td>\n",
       "      <td>track</td>\n",
       "      <td>51</td>\n",
       "      <td>41</td>\n",
       "      <td>14288</td>\n",
       "      <td>['british comedy', 'comedy']</td>\n",
       "      <td>3hYaK5FF3YAglCj5HZgBnP</td>\n",
       "      <td>Jimmy Carr</td>\n",
       "      <td>0xZwriIAl9tEmACBOzEOk0</td>\n",
       "      <td>track_1</td>\n",
       "      <td>artist</td>\n",
       "    </tr>\n",
       "    <tr>\n",
       "      <th>179</th>\n",
       "      <td>20607</td>\n",
       "      <td>0.86500</td>\n",
       "      <td>3GHWsz3GsHXxqOpnJN4Zv9</td>\n",
       "      <td>https://api.spotify.com/v1/audio-analysis/2nwq...</td>\n",
       "      <td>7ubX7CBZbkPM3O1m2WBBd8</td>\n",
       "      <td>['AD', 'AE', 'AR', 'AT', 'AU', 'BE', 'BG', 'BH...</td>\n",
       "      <td>BE</td>\n",
       "      <td>0.445</td>\n",
       "      <td>1.0</td>\n",
       "      <td>331093.0</td>\n",
       "      <td>...</td>\n",
       "      <td>track</td>\n",
       "      <td>26499</td>\n",
       "      <td>38</td>\n",
       "      <td>16398</td>\n",
       "      <td>['british comedy', 'comedy', 'comic']</td>\n",
       "      <td>7ubX7CBZbkPM3O1m2WBBd8</td>\n",
       "      <td>Billy Connolly</td>\n",
       "      <td>2adHZTlefXdwA9nYV3yuaL</td>\n",
       "      <td>track_7</td>\n",
       "      <td>artist</td>\n",
       "    </tr>\n",
       "    <tr>\n",
       "      <th>260</th>\n",
       "      <td>67531</td>\n",
       "      <td>0.50800</td>\n",
       "      <td>1RiseYCaSyaBEHtiDI768E</td>\n",
       "      <td>https://api.spotify.com/v1/audio-analysis/6h8E...</td>\n",
       "      <td>7tP8iG479D2GhVmZ8jKjSk</td>\n",
       "      <td>['AD', 'AE', 'AR', 'AT', 'AU', 'BE', 'BG', 'BH...</td>\n",
       "      <td>AR</td>\n",
       "      <td>0.629</td>\n",
       "      <td>1.0</td>\n",
       "      <td>1665706.0</td>\n",
       "      <td>...</td>\n",
       "      <td>track</td>\n",
       "      <td>34750</td>\n",
       "      <td>25</td>\n",
       "      <td>1046</td>\n",
       "      <td>['drama']</td>\n",
       "      <td>7tP8iG479D2GhVmZ8jKjSk</td>\n",
       "      <td>Bart Wolffe</td>\n",
       "      <td>2e9SycthzzC1FQCEngmlz0</td>\n",
       "      <td>track_2</td>\n",
       "      <td>artist</td>\n",
       "    </tr>\n",
       "    <tr>\n",
       "      <th>323</th>\n",
       "      <td>34827</td>\n",
       "      <td>0.47500</td>\n",
       "      <td>2CbLBSlkvh2vR4JRLDRQso</td>\n",
       "      <td>https://api.spotify.com/v1/audio-analysis/56Ae...</td>\n",
       "      <td>6DoH7ywD5BcQvjloe9OcIj</td>\n",
       "      <td>['AD', 'AE', 'AR', 'AU', 'BG', 'BH', 'BO', 'BR...</td>\n",
       "      <td>FI</td>\n",
       "      <td>0.614</td>\n",
       "      <td>1.0</td>\n",
       "      <td>280227.0</td>\n",
       "      <td>...</td>\n",
       "      <td>track</td>\n",
       "      <td>54974</td>\n",
       "      <td>68</td>\n",
       "      <td>637499</td>\n",
       "      <td>['acoustic pop', 'folk-pop', 'indie folk', 'ne...</td>\n",
       "      <td>6DoH7ywD5BcQvjloe9OcIj</td>\n",
       "      <td>Ray LaMontagne</td>\n",
       "      <td>1fYouLdK3PkOMPnx4CPxTY</td>\n",
       "      <td>track_23</td>\n",
       "      <td>artist</td>\n",
       "    </tr>\n",
       "    <tr>\n",
       "      <th>359</th>\n",
       "      <td>47576</td>\n",
       "      <td>0.18600</td>\n",
       "      <td>7EJ5pXrSqqfybKyfbvlz84</td>\n",
       "      <td>https://api.spotify.com/v1/audio-analysis/0oak...</td>\n",
       "      <td>09xj0S68Y1OU1vHMCZAIvz</td>\n",
       "      <td>['AD', 'AE', 'AR', 'AT', 'AU', 'BE', 'BG', 'BH...</td>\n",
       "      <td>AR</td>\n",
       "      <td>0.615</td>\n",
       "      <td>1.0</td>\n",
       "      <td>135133.0</td>\n",
       "      <td>...</td>\n",
       "      <td>track</td>\n",
       "      <td>52168</td>\n",
       "      <td>72</td>\n",
       "      <td>1502839</td>\n",
       "      <td>['latin', 'latin alternative', 'latin rock', '...</td>\n",
       "      <td>09xj0S68Y1OU1vHMCZAIvz</td>\n",
       "      <td>Café Tacvba</td>\n",
       "      <td>19ScoKGqnfUggyqOVQjsoH</td>\n",
       "      <td>track_3</td>\n",
       "      <td>artist</td>\n",
       "    </tr>\n",
       "    <tr>\n",
       "      <th>453</th>\n",
       "      <td>86217</td>\n",
       "      <td>0.57400</td>\n",
       "      <td>2OVkLEMcPk9LPdl4eza40X</td>\n",
       "      <td>https://api.spotify.com/v1/audio-analysis/0p9z...</td>\n",
       "      <td>1EXjXQpDx2pROygh8zvHs4</td>\n",
       "      <td>['AD', 'AE', 'AR', 'AT', 'AU', 'BE', 'BG', 'BH...</td>\n",
       "      <td>AR</td>\n",
       "      <td>0.543</td>\n",
       "      <td>1.0</td>\n",
       "      <td>246677.0</td>\n",
       "      <td>...</td>\n",
       "      <td>track</td>\n",
       "      <td>54859</td>\n",
       "      <td>74</td>\n",
       "      <td>1583293</td>\n",
       "      <td>['latin pop', 'spanish pop', 'spanish pop rock']</td>\n",
       "      <td>1EXjXQpDx2pROygh8zvHs4</td>\n",
       "      <td>Melendi</td>\n",
       "      <td>0p9zxloVaytLMbORCBMfwO</td>\n",
       "      <td>track_46</td>\n",
       "      <td>artist</td>\n",
       "    </tr>\n",
       "    <tr>\n",
       "      <th>764</th>\n",
       "      <td>170</td>\n",
       "      <td>0.37100</td>\n",
       "      <td>6ReDl0QX2YZdK4aYh5yOOg</td>\n",
       "      <td>https://api.spotify.com/v1/audio-analysis/6kSM...</td>\n",
       "      <td>1bYTiIHnxEdBncCHYCfE4j</td>\n",
       "      <td>['AD', 'AE', 'AR', 'AT', 'AU', 'BE', 'BG', 'BH...</td>\n",
       "      <td>BE</td>\n",
       "      <td>0.309</td>\n",
       "      <td>1.0</td>\n",
       "      <td>210686.0</td>\n",
       "      <td>...</td>\n",
       "      <td>track</td>\n",
       "      <td>48129</td>\n",
       "      <td>42</td>\n",
       "      <td>3581</td>\n",
       "      <td>['irish singer-songwriter']</td>\n",
       "      <td>1bYTiIHnxEdBncCHYCfE4j</td>\n",
       "      <td>Lilla Vargen</td>\n",
       "      <td>4Y5pc5mwRV2rEGhhHZZhCk</td>\n",
       "      <td>track_22</td>\n",
       "      <td>artist</td>\n",
       "    </tr>\n",
       "    <tr>\n",
       "      <th>846</th>\n",
       "      <td>25462</td>\n",
       "      <td>0.00632</td>\n",
       "      <td>5ppnlEoj4HdRRdRihnY3jU</td>\n",
       "      <td>https://api.spotify.com/v1/audio-analysis/433J...</td>\n",
       "      <td>0EmeFodog0BfCgMzAIvKQp</td>\n",
       "      <td>['AD', 'AE', 'AR', 'AT', 'AU', 'BE', 'BG', 'BH...</td>\n",
       "      <td>BE</td>\n",
       "      <td>0.617</td>\n",
       "      <td>1.0</td>\n",
       "      <td>257027.0</td>\n",
       "      <td>...</td>\n",
       "      <td>track</td>\n",
       "      <td>51744</td>\n",
       "      <td>84</td>\n",
       "      <td>15675167</td>\n",
       "      <td>['colombian pop', 'dance pop', 'latin', 'latin...</td>\n",
       "      <td>0EmeFodog0BfCgMzAIvKQp</td>\n",
       "      <td>Shakira</td>\n",
       "      <td>4I4IWwxmrY8CUQ0lJAT3fW</td>\n",
       "      <td>track_19</td>\n",
       "      <td>artist</td>\n",
       "    </tr>\n",
       "  </tbody>\n",
       "</table>\n",
       "<p>9 rows × 41 columns</p>\n",
       "</div>"
      ],
      "text/plain": [
       "     Unnamed: 0_x  acousticness                album_id  \\\n",
       "13              7       0.71900  4tKijjmxGClg4JOLAyo2qE   \n",
       "22          23244       0.76200  4tKijjmxGClg4JOLAyo2qE   \n",
       "179         20607       0.86500  3GHWsz3GsHXxqOpnJN4Zv9   \n",
       "260         67531       0.50800  1RiseYCaSyaBEHtiDI768E   \n",
       "323         34827       0.47500  2CbLBSlkvh2vR4JRLDRQso   \n",
       "359         47576       0.18600  7EJ5pXrSqqfybKyfbvlz84   \n",
       "453         86217       0.57400  2OVkLEMcPk9LPdl4eza40X   \n",
       "764           170       0.37100  6ReDl0QX2YZdK4aYh5yOOg   \n",
       "846         25462       0.00632  5ppnlEoj4HdRRdRihnY3jU   \n",
       "\n",
       "                                          analysis_url  \\\n",
       "13   https://api.spotify.com/v1/audio-analysis/6ile...   \n",
       "22   https://api.spotify.com/v1/audio-analysis/3Ee7...   \n",
       "179  https://api.spotify.com/v1/audio-analysis/2nwq...   \n",
       "260  https://api.spotify.com/v1/audio-analysis/6h8E...   \n",
       "323  https://api.spotify.com/v1/audio-analysis/56Ae...   \n",
       "359  https://api.spotify.com/v1/audio-analysis/0oak...   \n",
       "453  https://api.spotify.com/v1/audio-analysis/0p9z...   \n",
       "764  https://api.spotify.com/v1/audio-analysis/6kSM...   \n",
       "846  https://api.spotify.com/v1/audio-analysis/433J...   \n",
       "\n",
       "                 artists_id  \\\n",
       "13   3hYaK5FF3YAglCj5HZgBnP   \n",
       "22   3hYaK5FF3YAglCj5HZgBnP   \n",
       "179  7ubX7CBZbkPM3O1m2WBBd8   \n",
       "260  7tP8iG479D2GhVmZ8jKjSk   \n",
       "323  6DoH7ywD5BcQvjloe9OcIj   \n",
       "359  09xj0S68Y1OU1vHMCZAIvz   \n",
       "453  1EXjXQpDx2pROygh8zvHs4   \n",
       "764  1bYTiIHnxEdBncCHYCfE4j   \n",
       "846  0EmeFodog0BfCgMzAIvKQp   \n",
       "\n",
       "                                     available_markets country  danceability  \\\n",
       "13                                              ['GB']      BE         0.513   \n",
       "22                                              ['GB']      BE         0.507   \n",
       "179  ['AD', 'AE', 'AR', 'AT', 'AU', 'BE', 'BG', 'BH...      BE         0.445   \n",
       "260  ['AD', 'AE', 'AR', 'AT', 'AU', 'BE', 'BG', 'BH...      AR         0.629   \n",
       "323  ['AD', 'AE', 'AR', 'AU', 'BG', 'BH', 'BO', 'BR...      FI         0.614   \n",
       "359  ['AD', 'AE', 'AR', 'AT', 'AU', 'BE', 'BG', 'BH...      AR         0.615   \n",
       "453  ['AD', 'AE', 'AR', 'AT', 'AU', 'BE', 'BG', 'BH...      AR         0.543   \n",
       "764  ['AD', 'AE', 'AR', 'AT', 'AU', 'BE', 'BG', 'BH...      BE         0.309   \n",
       "846  ['AD', 'AE', 'AR', 'AT', 'AU', 'BE', 'BG', 'BH...      BE         0.617   \n",
       "\n",
       "     disc_number  duration_ms  ...  type_x Unnamed: 0_y artist_popularity  \\\n",
       "13           1.0     591160.0  ...   track           51                41   \n",
       "22           1.0     501640.0  ...   track           51                41   \n",
       "179          1.0     331093.0  ...   track        26499                38   \n",
       "260          1.0    1665706.0  ...   track        34750                25   \n",
       "323          1.0     280227.0  ...   track        54974                68   \n",
       "359          1.0     135133.0  ...   track        52168                72   \n",
       "453          1.0     246677.0  ...   track        54859                74   \n",
       "764          1.0     210686.0  ...   track        48129                42   \n",
       "846          1.0     257027.0  ...   track        51744                84   \n",
       "\n",
       "     followers                                             genres  \\\n",
       "13       14288                       ['british comedy', 'comedy']   \n",
       "22       14288                       ['british comedy', 'comedy']   \n",
       "179      16398              ['british comedy', 'comedy', 'comic']   \n",
       "260       1046                                          ['drama']   \n",
       "323     637499  ['acoustic pop', 'folk-pop', 'indie folk', 'ne...   \n",
       "359    1502839  ['latin', 'latin alternative', 'latin rock', '...   \n",
       "453    1583293   ['latin pop', 'spanish pop', 'spanish pop rock']   \n",
       "764       3581                        ['irish singer-songwriter']   \n",
       "846   15675167  ['colombian pop', 'dance pop', 'latin', 'latin...   \n",
       "\n",
       "                         id          name_y                track_id  \\\n",
       "13   3hYaK5FF3YAglCj5HZgBnP      Jimmy Carr  0xZwriIAl9tEmACBOzEOk0   \n",
       "22   3hYaK5FF3YAglCj5HZgBnP      Jimmy Carr  0xZwriIAl9tEmACBOzEOk0   \n",
       "179  7ubX7CBZbkPM3O1m2WBBd8  Billy Connolly  2adHZTlefXdwA9nYV3yuaL   \n",
       "260  7tP8iG479D2GhVmZ8jKjSk     Bart Wolffe  2e9SycthzzC1FQCEngmlz0   \n",
       "323  6DoH7ywD5BcQvjloe9OcIj  Ray LaMontagne  1fYouLdK3PkOMPnx4CPxTY   \n",
       "359  09xj0S68Y1OU1vHMCZAIvz     Café Tacvba  19ScoKGqnfUggyqOVQjsoH   \n",
       "453  1EXjXQpDx2pROygh8zvHs4         Melendi  0p9zxloVaytLMbORCBMfwO   \n",
       "764  1bYTiIHnxEdBncCHYCfE4j    Lilla Vargen  4Y5pc5mwRV2rEGhhHZZhCk   \n",
       "846  0EmeFodog0BfCgMzAIvKQp         Shakira  4I4IWwxmrY8CUQ0lJAT3fW   \n",
       "\n",
       "     track_name_prev_y  type_y  \n",
       "13             track_1  artist  \n",
       "22             track_1  artist  \n",
       "179            track_7  artist  \n",
       "260            track_2  artist  \n",
       "323           track_23  artist  \n",
       "359            track_3  artist  \n",
       "453           track_46  artist  \n",
       "764           track_22  artist  \n",
       "846           track_19  artist  \n",
       "\n",
       "[9 rows x 41 columns]"
      ]
     },
     "execution_count": 99,
     "metadata": {},
     "output_type": "execute_result"
    }
   ],
   "source": [
    "song_features = df_artists_tracks_orig[df_artists_tracks_orig['tracks_id'] == '5qljLQuKnNJf4F4vfxQB0V']\n",
    "song_features   \n",
    "\n",
    "#show 3SM258JjFcDleOHRC4xSG8, 23sSN73Ki9t3dz7RMJcimx, 2U1EeEkueimapc1RXOmmzP, 4ySkQDs1dYGvSmbhX1fwvv, 6p7wL9H4f4eKkdma5oZcej in df_artists_tracks_orig\n",
    "list = recommend_songs_knn('5qljLQuKnNJf4F4vfxQB0V', df_artists_tracks, 10)\n",
    "df_artists_tracks_orig[df_artists_tracks_orig['tracks_id'].isin(list)]\n"
   ]
  },
  {
   "cell_type": "code",
   "execution_count": 82,
   "metadata": {},
   "outputs": [
    {
     "name": "stdout",
     "output_type": "stream",
     "text": [
      "Using same clusters\n",
      "Recommendations for 5qljLQuKnNJf4F4vfxQB0V:\n",
      "\n",
      "1: 6ileHaSaGI8UjUK1jQu6jm, with distance of 300.2944593204876\n",
      "2: 3Ee7yQ1JmAkSOzCxn7ZVj7, with distance of 407.7842679478832\n",
      "3: 6h8E7Zi73yyFx6wAN0q85b, with distance of 472.25629201547497\n",
      "4: 2nwqu5nbKy4P4w117435zj, with distance of 617.1705451278249\n",
      "5: 56AecW9Anb0CY6HpgWvcg9, with distance of 743.9271156184294\n",
      "6: 0oakHTPj4SF7Si0NAsLwi8, with distance of 831.4220272443381\n",
      "7: 0p9zxloVaytLMbORCBMfwO, with distance of 952.7787443903353\n",
      "8: 433JymbpWnRMHXzp1oTRP7, with distance of 1302.4897773590458\n",
      "9: 6kSMUoQA3VSMWOk2ni0hfD, with distance of 1366.604776130748\n",
      "Recommendations for 5qljLQuKnNJf4F4vfxQB0V:\n",
      "\n",
      "1: 3cPdD7SWz3wGZ5xENiuoFK, with distance of 55.556977588679736\n",
      "2: 6vnSPnsRNJAjMxCoe1HyR4, with distance of 75.5315111603205\n",
      "3: 4lucCq75lCBqcDvCvNHX3X, with distance of 99.52788352363295\n",
      "4: 19CVyKUj6sc0O7DL8YNLJH, with distance of 171.90180654769267\n",
      "5: 48MD8OcaGsbRpPNrWOJPFK, with distance of 177.19222080730302\n",
      "6: 6FugyKqhP4hZKofxRHoOV1, with distance of 179.29615257632918\n",
      "7: 6WgmGxSHdto6AG1qRUSMrt, with distance of 180.35069956103115\n",
      "8: 7zqGeByPHWYqdmzQtJShWW, with distance of 181.85239148753004\n",
      "9: 1RHTGr4X3c6eiTjvf1iz7B, with distance of 190.1653321353358\n"
     ]
    },
    {
     "data": {
      "text/plain": [
       "['3cPdD7SWz3wGZ5xENiuoFK',\n",
       " '6vnSPnsRNJAjMxCoe1HyR4',\n",
       " '4lucCq75lCBqcDvCvNHX3X',\n",
       " '19CVyKUj6sc0O7DL8YNLJH',\n",
       " '48MD8OcaGsbRpPNrWOJPFK',\n",
       " '6FugyKqhP4hZKofxRHoOV1',\n",
       " '6WgmGxSHdto6AG1qRUSMrt',\n",
       " '7zqGeByPHWYqdmzQtJShWW',\n",
       " '1RHTGr4X3c6eiTjvf1iz7B']"
      ]
     },
     "execution_count": 82,
     "metadata": {},
     "output_type": "execute_result"
    }
   ],
   "source": [
    "recommend_songs_knn('5qljLQuKnNJf4F4vfxQB0V', df_artists_tracks, 10)\n",
    "recommend_songs_knn2('5qljLQuKnNJf4F4vfxQB0V', df_artists_tracks, 10)"
   ]
  },
  {
   "cell_type": "code",
   "execution_count": 9,
   "metadata": {},
   "outputs": [
    {
     "name": "stderr",
     "output_type": "stream",
     "text": [
      "/Users/merve/opt/anaconda3/lib/python3.9/site-packages/sklearn/cluster/_kmeans.py:870: FutureWarning: The default value of `n_init` will change from 10 to 'auto' in 1.4. Set the value of `n_init` explicitly to suppress the warning\n",
      "  warnings.warn(\n"
     ]
    },
    {
     "data": {
      "text/html": [
       "<div>\n",
       "<style scoped>\n",
       "    .dataframe tbody tr th:only-of-type {\n",
       "        vertical-align: middle;\n",
       "    }\n",
       "\n",
       "    .dataframe tbody tr th {\n",
       "        vertical-align: top;\n",
       "    }\n",
       "\n",
       "    .dataframe thead th {\n",
       "        text-align: right;\n",
       "    }\n",
       "</style>\n",
       "<table border=\"1\" class=\"dataframe\">\n",
       "  <thead>\n",
       "    <tr style=\"text-align: right;\">\n",
       "      <th></th>\n",
       "      <th>Unnamed: 0_x</th>\n",
       "      <th>acousticness</th>\n",
       "      <th>album_id</th>\n",
       "      <th>analysis_url</th>\n",
       "      <th>artists_id</th>\n",
       "      <th>available_markets</th>\n",
       "      <th>country</th>\n",
       "      <th>danceability</th>\n",
       "      <th>disc_number</th>\n",
       "      <th>duration_ms</th>\n",
       "      <th>...</th>\n",
       "      <th>r</th>\n",
       "      <th>s</th>\n",
       "      <th>t</th>\n",
       "      <th>u</th>\n",
       "      <th>v</th>\n",
       "      <th>w</th>\n",
       "      <th>x</th>\n",
       "      <th>y</th>\n",
       "      <th>z</th>\n",
       "      <th>genre_cluster</th>\n",
       "    </tr>\n",
       "  </thead>\n",
       "  <tbody>\n",
       "    <tr>\n",
       "      <th>0</th>\n",
       "      <td>0</td>\n",
       "      <td>0.294</td>\n",
       "      <td>0D3QufeCudpQANOR7luqdr</td>\n",
       "      <td>https://api.spotify.com/v1/audio-analysis/5qlj...</td>\n",
       "      <td>3mxJuHRn2ZWD5OofvJtDZY</td>\n",
       "      <td>['AD', 'AE', 'AR', 'AT', 'AU', 'BE', 'BG', 'BH...</td>\n",
       "      <td>BE</td>\n",
       "      <td>0.698</td>\n",
       "      <td>1.0</td>\n",
       "      <td>235584.0</td>\n",
       "      <td>...</td>\n",
       "      <td>0</td>\n",
       "      <td>1</td>\n",
       "      <td>0</td>\n",
       "      <td>0</td>\n",
       "      <td>0</td>\n",
       "      <td>0</td>\n",
       "      <td>0</td>\n",
       "      <td>0</td>\n",
       "      <td>0</td>\n",
       "      <td>7</td>\n",
       "    </tr>\n",
       "    <tr>\n",
       "      <th>1</th>\n",
       "      <td>84077</td>\n",
       "      <td>0.166</td>\n",
       "      <td>3wIjGVauUxR4c3NvnQZ0Jo</td>\n",
       "      <td>https://api.spotify.com/v1/audio-analysis/3THT...</td>\n",
       "      <td>3mxJuHRn2ZWD5OofvJtDZY</td>\n",
       "      <td>['AD', 'AE', 'AR', 'AT', 'AU', 'BE', 'BG', 'BH...</td>\n",
       "      <td>AR</td>\n",
       "      <td>0.543</td>\n",
       "      <td>1.0</td>\n",
       "      <td>233998.0</td>\n",
       "      <td>...</td>\n",
       "      <td>0</td>\n",
       "      <td>1</td>\n",
       "      <td>0</td>\n",
       "      <td>0</td>\n",
       "      <td>0</td>\n",
       "      <td>0</td>\n",
       "      <td>0</td>\n",
       "      <td>0</td>\n",
       "      <td>0</td>\n",
       "      <td>7</td>\n",
       "    </tr>\n",
       "    <tr>\n",
       "      <th>2</th>\n",
       "      <td>1</td>\n",
       "      <td>0.863</td>\n",
       "      <td>1bcqsH5UyTBzmh9YizdsBE</td>\n",
       "      <td>https://api.spotify.com/v1/audio-analysis/3VAX...</td>\n",
       "      <td>4xWMewm6CYMstu0sPgd9jJ</td>\n",
       "      <td>['AD', 'AE', 'AR', 'AT', 'AU', 'BE', 'BG', 'BH...</td>\n",
       "      <td>BE</td>\n",
       "      <td>0.719</td>\n",
       "      <td>1.0</td>\n",
       "      <td>656960.0</td>\n",
       "      <td>...</td>\n",
       "      <td>0</td>\n",
       "      <td>0</td>\n",
       "      <td>0</td>\n",
       "      <td>0</td>\n",
       "      <td>0</td>\n",
       "      <td>0</td>\n",
       "      <td>0</td>\n",
       "      <td>0</td>\n",
       "      <td>0</td>\n",
       "      <td>1</td>\n",
       "    </tr>\n",
       "    <tr>\n",
       "      <th>3</th>\n",
       "      <td>6</td>\n",
       "      <td>0.824</td>\n",
       "      <td>51g5viCaYjOW5XO4qX1RCD</td>\n",
       "      <td>https://api.spotify.com/v1/audio-analysis/1WJz...</td>\n",
       "      <td>4xWMewm6CYMstu0sPgd9jJ</td>\n",
       "      <td>['AD', 'AE', 'AR', 'AT', 'AU', 'BE', 'BG', 'BH...</td>\n",
       "      <td>BE</td>\n",
       "      <td>0.688</td>\n",
       "      <td>1.0</td>\n",
       "      <td>29240.0</td>\n",
       "      <td>...</td>\n",
       "      <td>0</td>\n",
       "      <td>0</td>\n",
       "      <td>0</td>\n",
       "      <td>0</td>\n",
       "      <td>0</td>\n",
       "      <td>0</td>\n",
       "      <td>0</td>\n",
       "      <td>0</td>\n",
       "      <td>0</td>\n",
       "      <td>1</td>\n",
       "    </tr>\n",
       "    <tr>\n",
       "      <th>4</th>\n",
       "      <td>41</td>\n",
       "      <td>0.850</td>\n",
       "      <td>7EtGJVYZbb2Krgwizn2flB</td>\n",
       "      <td>https://api.spotify.com/v1/audio-analysis/65Mo...</td>\n",
       "      <td>4xWMewm6CYMstu0sPgd9jJ</td>\n",
       "      <td>['AD', 'AE', 'AR', 'AT', 'AU', 'BE', 'BG', 'BH...</td>\n",
       "      <td>BE</td>\n",
       "      <td>0.632</td>\n",
       "      <td>1.0</td>\n",
       "      <td>497493.0</td>\n",
       "      <td>...</td>\n",
       "      <td>0</td>\n",
       "      <td>0</td>\n",
       "      <td>0</td>\n",
       "      <td>0</td>\n",
       "      <td>0</td>\n",
       "      <td>0</td>\n",
       "      <td>0</td>\n",
       "      <td>0</td>\n",
       "      <td>0</td>\n",
       "      <td>1</td>\n",
       "    </tr>\n",
       "  </tbody>\n",
       "</table>\n",
       "<p>5 rows × 82 columns</p>\n",
       "</div>"
      ],
      "text/plain": [
       "   Unnamed: 0_x  acousticness                album_id  \\\n",
       "0             0         0.294  0D3QufeCudpQANOR7luqdr   \n",
       "1         84077         0.166  3wIjGVauUxR4c3NvnQZ0Jo   \n",
       "2             1         0.863  1bcqsH5UyTBzmh9YizdsBE   \n",
       "3             6         0.824  51g5viCaYjOW5XO4qX1RCD   \n",
       "4            41         0.850  7EtGJVYZbb2Krgwizn2flB   \n",
       "\n",
       "                                        analysis_url              artists_id  \\\n",
       "0  https://api.spotify.com/v1/audio-analysis/5qlj...  3mxJuHRn2ZWD5OofvJtDZY   \n",
       "1  https://api.spotify.com/v1/audio-analysis/3THT...  3mxJuHRn2ZWD5OofvJtDZY   \n",
       "2  https://api.spotify.com/v1/audio-analysis/3VAX...  4xWMewm6CYMstu0sPgd9jJ   \n",
       "3  https://api.spotify.com/v1/audio-analysis/1WJz...  4xWMewm6CYMstu0sPgd9jJ   \n",
       "4  https://api.spotify.com/v1/audio-analysis/65Mo...  4xWMewm6CYMstu0sPgd9jJ   \n",
       "\n",
       "                                   available_markets country  danceability  \\\n",
       "0  ['AD', 'AE', 'AR', 'AT', 'AU', 'BE', 'BG', 'BH...      BE         0.698   \n",
       "1  ['AD', 'AE', 'AR', 'AT', 'AU', 'BE', 'BG', 'BH...      AR         0.543   \n",
       "2  ['AD', 'AE', 'AR', 'AT', 'AU', 'BE', 'BG', 'BH...      BE         0.719   \n",
       "3  ['AD', 'AE', 'AR', 'AT', 'AU', 'BE', 'BG', 'BH...      BE         0.688   \n",
       "4  ['AD', 'AE', 'AR', 'AT', 'AU', 'BE', 'BG', 'BH...      BE         0.632   \n",
       "\n",
       "   disc_number  duration_ms  ...  r  s  t  u  v  w  x  y  z genre_cluster  \n",
       "0          1.0     235584.0  ...  0  1  0  0  0  0  0  0  0             7  \n",
       "1          1.0     233998.0  ...  0  1  0  0  0  0  0  0  0             7  \n",
       "2          1.0     656960.0  ...  0  0  0  0  0  0  0  0  0             1  \n",
       "3          1.0      29240.0  ...  0  0  0  0  0  0  0  0  0             1  \n",
       "4          1.0     497493.0  ...  0  0  0  0  0  0  0  0  0             1  \n",
       "\n",
       "[5 rows x 82 columns]"
      ]
     },
     "execution_count": 9,
     "metadata": {},
     "output_type": "execute_result"
    }
   ],
   "source": [
    "#import recommmeder.py\n",
    "# recommender\n",
    "# update the import statement\n",
    "import recommender as recommender\n",
    "import importlib\n",
    "importlib.reload(recommender)\n",
    "\n",
    "#call read_data function\n",
    "recommender.init_file()\n",
    "#get global variables from recommender.py\n",
    "df_artists_tracks = recommender.df_artists_tracks\n",
    "#df_artists_tracks_orig = recommender.df_artists_tracks_orig\n",
    "df_artists_tracks.head()\n",
    "#call recommend_songs_knn function\n"
   ]
  },
  {
   "cell_type": "code",
   "execution_count": 10,
   "metadata": {},
   "outputs": [
    {
     "name": "stdout",
     "output_type": "stream",
     "text": [
      "Recommendations for 5qljLQuKnNJf4F4vfxQB0V:\n",
      "\n",
      "1: 0EYOdF5FCkgOJJla8DI2Md, with distance of 242.95587470281987\n",
      "2: 3k64ZLozksTCtXL4JtD80L, with distance of 727.9009999776292\n",
      "3: 4jYg3ywhIcm9AZ6SS7tR9Q, with distance of 831.4220272443381\n",
      "4: 1qGmxIGEuBEkj7bft72Kh0, with distance of 946.19914379448\n",
      "5: 5szJ8SMwQVEvvdk65w6M6g, with distance of 1264.1426274041823\n",
      "6: 4dHNWm43HrElSRtwvRRbtg, with distance of 1302.4897773590458\n",
      "7: 1dp62fHaXUP0Zh45voegpI, with distance of 1366.8582674178836\n",
      "8: 2LU2TJWg06mNOXAUcDb4DE, with distance of 1412.393788861036\n",
      "9: 3THTkAwJOsmxgizvYkBNRI, with distance of 1586.2209945443683\n"
     ]
    },
    {
     "data": {
      "text/html": [
       "<div>\n",
       "<style scoped>\n",
       "    .dataframe tbody tr th:only-of-type {\n",
       "        vertical-align: middle;\n",
       "    }\n",
       "\n",
       "    .dataframe tbody tr th {\n",
       "        vertical-align: top;\n",
       "    }\n",
       "\n",
       "    .dataframe thead th {\n",
       "        text-align: right;\n",
       "    }\n",
       "</style>\n",
       "<table border=\"1\" class=\"dataframe\">\n",
       "  <thead>\n",
       "    <tr style=\"text-align: right;\">\n",
       "      <th></th>\n",
       "      <th>Unnamed: 0_x</th>\n",
       "      <th>acousticness</th>\n",
       "      <th>album_id</th>\n",
       "      <th>analysis_url</th>\n",
       "      <th>artists_id</th>\n",
       "      <th>available_markets</th>\n",
       "      <th>country</th>\n",
       "      <th>danceability</th>\n",
       "      <th>disc_number</th>\n",
       "      <th>duration_ms</th>\n",
       "      <th>...</th>\n",
       "      <th>type_x</th>\n",
       "      <th>Unnamed: 0_y</th>\n",
       "      <th>artist_popularity</th>\n",
       "      <th>followers</th>\n",
       "      <th>genres</th>\n",
       "      <th>id</th>\n",
       "      <th>name</th>\n",
       "      <th>track_id</th>\n",
       "      <th>track_name_prev_y</th>\n",
       "      <th>type_y</th>\n",
       "    </tr>\n",
       "  </thead>\n",
       "  <tbody>\n",
       "    <tr>\n",
       "      <th>1</th>\n",
       "      <td>84077</td>\n",
       "      <td>0.16600</td>\n",
       "      <td>3wIjGVauUxR4c3NvnQZ0Jo</td>\n",
       "      <td>https://api.spotify.com/v1/audio-analysis/3THT...</td>\n",
       "      <td>3mxJuHRn2ZWD5OofvJtDZY</td>\n",
       "      <td>['AD', 'AE', 'AR', 'AT', 'AU', 'BE', 'BG', 'BH...</td>\n",
       "      <td>AR</td>\n",
       "      <td>0.543</td>\n",
       "      <td>1.0</td>\n",
       "      <td>233998.0</td>\n",
       "      <td>...</td>\n",
       "      <td>track</td>\n",
       "      <td>45499</td>\n",
       "      <td>28</td>\n",
       "      <td>425</td>\n",
       "      <td>['finnish indie']</td>\n",
       "      <td>3mxJuHRn2ZWD5OofvJtDZY</td>\n",
       "      <td>Jesse Markin</td>\n",
       "      <td>3THTkAwJOsmxgizvYkBNRI</td>\n",
       "      <td>track_19</td>\n",
       "      <td>artist</td>\n",
       "    </tr>\n",
       "    <tr>\n",
       "      <th>266</th>\n",
       "      <td>71825</td>\n",
       "      <td>0.33300</td>\n",
       "      <td>4lRCoP1w4VyHFLedNkBW44</td>\n",
       "      <td>https://api.spotify.com/v1/audio-analysis/4jYg...</td>\n",
       "      <td>7tP8iG479D2GhVmZ8jKjSk</td>\n",
       "      <td>['AD', 'AE', 'AR', 'AT', 'AU', 'BE', 'BG', 'BH...</td>\n",
       "      <td>AR</td>\n",
       "      <td>0.618</td>\n",
       "      <td>1.0</td>\n",
       "      <td>1288283.0</td>\n",
       "      <td>...</td>\n",
       "      <td>track</td>\n",
       "      <td>34750</td>\n",
       "      <td>25</td>\n",
       "      <td>1046</td>\n",
       "      <td>['drama']</td>\n",
       "      <td>7tP8iG479D2GhVmZ8jKjSk</td>\n",
       "      <td>Bart Wolffe</td>\n",
       "      <td>2e9SycthzzC1FQCEngmlz0</td>\n",
       "      <td>track_2</td>\n",
       "      <td>artist</td>\n",
       "    </tr>\n",
       "    <tr>\n",
       "      <th>355</th>\n",
       "      <td>31865</td>\n",
       "      <td>0.14500</td>\n",
       "      <td>0fO8mzViUoz12iCHrPppE9</td>\n",
       "      <td>https://api.spotify.com/v1/audio-analysis/3k64...</td>\n",
       "      <td>09xj0S68Y1OU1vHMCZAIvz</td>\n",
       "      <td>['AD', 'AE', 'AR', 'AT', 'AU', 'BE', 'BG', 'BH...</td>\n",
       "      <td>FI</td>\n",
       "      <td>0.539</td>\n",
       "      <td>1.0</td>\n",
       "      <td>414333.0</td>\n",
       "      <td>...</td>\n",
       "      <td>track</td>\n",
       "      <td>52168</td>\n",
       "      <td>72</td>\n",
       "      <td>1502839</td>\n",
       "      <td>['latin', 'latin alternative', 'latin rock', '...</td>\n",
       "      <td>09xj0S68Y1OU1vHMCZAIvz</td>\n",
       "      <td>Café Tacvba</td>\n",
       "      <td>19ScoKGqnfUggyqOVQjsoH</td>\n",
       "      <td>track_3</td>\n",
       "      <td>artist</td>\n",
       "    </tr>\n",
       "    <tr>\n",
       "      <th>393</th>\n",
       "      <td>46770</td>\n",
       "      <td>0.39800</td>\n",
       "      <td>7grisfn3eLVmGcSKYWujqT</td>\n",
       "      <td>https://api.spotify.com/v1/audio-analysis/2LU2...</td>\n",
       "      <td>6pSsE5y0uJMwYj83KrPyf9</td>\n",
       "      <td>['AD', 'AE', 'AR', 'AT', 'AU', 'BE', 'BG', 'BH...</td>\n",
       "      <td>FI</td>\n",
       "      <td>0.525</td>\n",
       "      <td>1.0</td>\n",
       "      <td>202115.0</td>\n",
       "      <td>...</td>\n",
       "      <td>track</td>\n",
       "      <td>20590</td>\n",
       "      <td>46</td>\n",
       "      <td>51758</td>\n",
       "      <td>['alternative r&amp;b', 'deep pop r&amp;b', 'escape ro...</td>\n",
       "      <td>6pSsE5y0uJMwYj83KrPyf9</td>\n",
       "      <td>Dawn Richard</td>\n",
       "      <td>6ZFPfm1FQHoGekM7ywe10r</td>\n",
       "      <td>track_67</td>\n",
       "      <td>artist</td>\n",
       "    </tr>\n",
       "    <tr>\n",
       "      <th>449</th>\n",
       "      <td>16656</td>\n",
       "      <td>0.23800</td>\n",
       "      <td>1J83k6qJHhtXaexpnJzoqr</td>\n",
       "      <td>https://api.spotify.com/v1/audio-analysis/1dp6...</td>\n",
       "      <td>1EXjXQpDx2pROygh8zvHs4</td>\n",
       "      <td>['AR', 'AU', 'BE', 'BO', 'BR', 'CH', 'CL', 'CO...</td>\n",
       "      <td>BE</td>\n",
       "      <td>0.641</td>\n",
       "      <td>1.0</td>\n",
       "      <td>229309.0</td>\n",
       "      <td>...</td>\n",
       "      <td>track</td>\n",
       "      <td>54859</td>\n",
       "      <td>74</td>\n",
       "      <td>1583293</td>\n",
       "      <td>['latin pop', 'spanish pop', 'spanish pop rock']</td>\n",
       "      <td>1EXjXQpDx2pROygh8zvHs4</td>\n",
       "      <td>Melendi</td>\n",
       "      <td>0p9zxloVaytLMbORCBMfwO</td>\n",
       "      <td>track_46</td>\n",
       "      <td>artist</td>\n",
       "    </tr>\n",
       "    <tr>\n",
       "      <th>516</th>\n",
       "      <td>88835</td>\n",
       "      <td>0.17600</td>\n",
       "      <td>5Xv8PCJ7ZMmRd3jXnJqg3V</td>\n",
       "      <td>https://api.spotify.com/v1/audio-analysis/5szJ...</td>\n",
       "      <td>30U8fYtiNpeA5KH6H87QUV</td>\n",
       "      <td>['AD', 'AE', 'AR', 'AT', 'AU', 'BE', 'BG', 'BH...</td>\n",
       "      <td>AR</td>\n",
       "      <td>0.317</td>\n",
       "      <td>1.0</td>\n",
       "      <td>207040.0</td>\n",
       "      <td>...</td>\n",
       "      <td>track</td>\n",
       "      <td>41397</td>\n",
       "      <td>57</td>\n",
       "      <td>363211</td>\n",
       "      <td>['alternative rock', 'garage rock', 'hardcore ...</td>\n",
       "      <td>30U8fYtiNpeA5KH6H87QUV</td>\n",
       "      <td>Dead Kennedys</td>\n",
       "      <td>5szJ8SMwQVEvvdk65w6M6g</td>\n",
       "      <td>track_17</td>\n",
       "      <td>artist</td>\n",
       "    </tr>\n",
       "    <tr>\n",
       "      <th>578</th>\n",
       "      <td>66657</td>\n",
       "      <td>0.00220</td>\n",
       "      <td>3sSfjX4fhZonjyZ10x0l0f</td>\n",
       "      <td>https://api.spotify.com/v1/audio-analysis/1qGm...</td>\n",
       "      <td>5eAWCfyUhZtHHtBdNk56l1</td>\n",
       "      <td>['AD', 'AE', 'AR', 'AT', 'AU', 'BE', 'BG', 'BH...</td>\n",
       "      <td>AR</td>\n",
       "      <td>0.263</td>\n",
       "      <td>1.0</td>\n",
       "      <td>151733.0</td>\n",
       "      <td>...</td>\n",
       "      <td>track</td>\n",
       "      <td>51731</td>\n",
       "      <td>79</td>\n",
       "      <td>4774393</td>\n",
       "      <td>['alternative metal', 'nu metal', 'post-grunge...</td>\n",
       "      <td>5eAWCfyUhZtHHtBdNk56l1</td>\n",
       "      <td>System Of A Down</td>\n",
       "      <td>7kwiwQhWRBSP1PJv4ZFJUK</td>\n",
       "      <td>track_9</td>\n",
       "      <td>artist</td>\n",
       "    </tr>\n",
       "    <tr>\n",
       "      <th>580</th>\n",
       "      <td>69799</td>\n",
       "      <td>0.00662</td>\n",
       "      <td>0cn6MHyx4YuZauaB7Pb66o</td>\n",
       "      <td>https://api.spotify.com/v1/audio-analysis/0EYO...</td>\n",
       "      <td>5eAWCfyUhZtHHtBdNk56l1</td>\n",
       "      <td>['AD', 'AE', 'AR', 'AT', 'AU', 'BE', 'BG', 'BH...</td>\n",
       "      <td>AR</td>\n",
       "      <td>0.556</td>\n",
       "      <td>1.0</td>\n",
       "      <td>255467.0</td>\n",
       "      <td>...</td>\n",
       "      <td>track</td>\n",
       "      <td>51731</td>\n",
       "      <td>79</td>\n",
       "      <td>4774393</td>\n",
       "      <td>['alternative metal', 'nu metal', 'post-grunge...</td>\n",
       "      <td>5eAWCfyUhZtHHtBdNk56l1</td>\n",
       "      <td>System Of A Down</td>\n",
       "      <td>7kwiwQhWRBSP1PJv4ZFJUK</td>\n",
       "      <td>track_9</td>\n",
       "      <td>artist</td>\n",
       "    </tr>\n",
       "    <tr>\n",
       "      <th>641</th>\n",
       "      <td>136</td>\n",
       "      <td>0.00708</td>\n",
       "      <td>1H84oHDW2NjJlZMBAZsjtT</td>\n",
       "      <td>https://api.spotify.com/v1/audio-analysis/4dHN...</td>\n",
       "      <td>1B0155rdv175D1tQ8VH7Oy</td>\n",
       "      <td>['AD', 'AE', 'AR', 'AT', 'AU', 'BE', 'BG', 'BH...</td>\n",
       "      <td>BE</td>\n",
       "      <td>0.630</td>\n",
       "      <td>1.0</td>\n",
       "      <td>164751.0</td>\n",
       "      <td>...</td>\n",
       "      <td>track</td>\n",
       "      <td>48098</td>\n",
       "      <td>59</td>\n",
       "      <td>56726</td>\n",
       "      <td>[]</td>\n",
       "      <td>1B0155rdv175D1tQ8VH7Oy</td>\n",
       "      <td>FEVER 333</td>\n",
       "      <td>51rdCmgHBzg9HJ7eHjVRK9</td>\n",
       "      <td>track_17</td>\n",
       "      <td>artist</td>\n",
       "    </tr>\n",
       "  </tbody>\n",
       "</table>\n",
       "<p>9 rows × 41 columns</p>\n",
       "</div>"
      ],
      "text/plain": [
       "     Unnamed: 0_x  acousticness                album_id  \\\n",
       "1           84077       0.16600  3wIjGVauUxR4c3NvnQZ0Jo   \n",
       "266         71825       0.33300  4lRCoP1w4VyHFLedNkBW44   \n",
       "355         31865       0.14500  0fO8mzViUoz12iCHrPppE9   \n",
       "393         46770       0.39800  7grisfn3eLVmGcSKYWujqT   \n",
       "449         16656       0.23800  1J83k6qJHhtXaexpnJzoqr   \n",
       "516         88835       0.17600  5Xv8PCJ7ZMmRd3jXnJqg3V   \n",
       "578         66657       0.00220  3sSfjX4fhZonjyZ10x0l0f   \n",
       "580         69799       0.00662  0cn6MHyx4YuZauaB7Pb66o   \n",
       "641           136       0.00708  1H84oHDW2NjJlZMBAZsjtT   \n",
       "\n",
       "                                          analysis_url  \\\n",
       "1    https://api.spotify.com/v1/audio-analysis/3THT...   \n",
       "266  https://api.spotify.com/v1/audio-analysis/4jYg...   \n",
       "355  https://api.spotify.com/v1/audio-analysis/3k64...   \n",
       "393  https://api.spotify.com/v1/audio-analysis/2LU2...   \n",
       "449  https://api.spotify.com/v1/audio-analysis/1dp6...   \n",
       "516  https://api.spotify.com/v1/audio-analysis/5szJ...   \n",
       "578  https://api.spotify.com/v1/audio-analysis/1qGm...   \n",
       "580  https://api.spotify.com/v1/audio-analysis/0EYO...   \n",
       "641  https://api.spotify.com/v1/audio-analysis/4dHN...   \n",
       "\n",
       "                 artists_id  \\\n",
       "1    3mxJuHRn2ZWD5OofvJtDZY   \n",
       "266  7tP8iG479D2GhVmZ8jKjSk   \n",
       "355  09xj0S68Y1OU1vHMCZAIvz   \n",
       "393  6pSsE5y0uJMwYj83KrPyf9   \n",
       "449  1EXjXQpDx2pROygh8zvHs4   \n",
       "516  30U8fYtiNpeA5KH6H87QUV   \n",
       "578  5eAWCfyUhZtHHtBdNk56l1   \n",
       "580  5eAWCfyUhZtHHtBdNk56l1   \n",
       "641  1B0155rdv175D1tQ8VH7Oy   \n",
       "\n",
       "                                     available_markets country  danceability  \\\n",
       "1    ['AD', 'AE', 'AR', 'AT', 'AU', 'BE', 'BG', 'BH...      AR         0.543   \n",
       "266  ['AD', 'AE', 'AR', 'AT', 'AU', 'BE', 'BG', 'BH...      AR         0.618   \n",
       "355  ['AD', 'AE', 'AR', 'AT', 'AU', 'BE', 'BG', 'BH...      FI         0.539   \n",
       "393  ['AD', 'AE', 'AR', 'AT', 'AU', 'BE', 'BG', 'BH...      FI         0.525   \n",
       "449  ['AR', 'AU', 'BE', 'BO', 'BR', 'CH', 'CL', 'CO...      BE         0.641   \n",
       "516  ['AD', 'AE', 'AR', 'AT', 'AU', 'BE', 'BG', 'BH...      AR         0.317   \n",
       "578  ['AD', 'AE', 'AR', 'AT', 'AU', 'BE', 'BG', 'BH...      AR         0.263   \n",
       "580  ['AD', 'AE', 'AR', 'AT', 'AU', 'BE', 'BG', 'BH...      AR         0.556   \n",
       "641  ['AD', 'AE', 'AR', 'AT', 'AU', 'BE', 'BG', 'BH...      BE         0.630   \n",
       "\n",
       "     disc_number  duration_ms  ...  type_x Unnamed: 0_y artist_popularity  \\\n",
       "1            1.0     233998.0  ...   track        45499                28   \n",
       "266          1.0    1288283.0  ...   track        34750                25   \n",
       "355          1.0     414333.0  ...   track        52168                72   \n",
       "393          1.0     202115.0  ...   track        20590                46   \n",
       "449          1.0     229309.0  ...   track        54859                74   \n",
       "516          1.0     207040.0  ...   track        41397                57   \n",
       "578          1.0     151733.0  ...   track        51731                79   \n",
       "580          1.0     255467.0  ...   track        51731                79   \n",
       "641          1.0     164751.0  ...   track        48098                59   \n",
       "\n",
       "     followers                                             genres  \\\n",
       "1          425                                  ['finnish indie']   \n",
       "266       1046                                          ['drama']   \n",
       "355    1502839  ['latin', 'latin alternative', 'latin rock', '...   \n",
       "393      51758  ['alternative r&b', 'deep pop r&b', 'escape ro...   \n",
       "449    1583293   ['latin pop', 'spanish pop', 'spanish pop rock']   \n",
       "516     363211  ['alternative rock', 'garage rock', 'hardcore ...   \n",
       "578    4774393  ['alternative metal', 'nu metal', 'post-grunge...   \n",
       "580    4774393  ['alternative metal', 'nu metal', 'post-grunge...   \n",
       "641      56726                                                 []   \n",
       "\n",
       "                         id              name                track_id  \\\n",
       "1    3mxJuHRn2ZWD5OofvJtDZY      Jesse Markin  3THTkAwJOsmxgizvYkBNRI   \n",
       "266  7tP8iG479D2GhVmZ8jKjSk       Bart Wolffe  2e9SycthzzC1FQCEngmlz0   \n",
       "355  09xj0S68Y1OU1vHMCZAIvz       Café Tacvba  19ScoKGqnfUggyqOVQjsoH   \n",
       "393  6pSsE5y0uJMwYj83KrPyf9      Dawn Richard  6ZFPfm1FQHoGekM7ywe10r   \n",
       "449  1EXjXQpDx2pROygh8zvHs4           Melendi  0p9zxloVaytLMbORCBMfwO   \n",
       "516  30U8fYtiNpeA5KH6H87QUV     Dead Kennedys  5szJ8SMwQVEvvdk65w6M6g   \n",
       "578  5eAWCfyUhZtHHtBdNk56l1  System Of A Down  7kwiwQhWRBSP1PJv4ZFJUK   \n",
       "580  5eAWCfyUhZtHHtBdNk56l1  System Of A Down  7kwiwQhWRBSP1PJv4ZFJUK   \n",
       "641  1B0155rdv175D1tQ8VH7Oy         FEVER 333  51rdCmgHBzg9HJ7eHjVRK9   \n",
       "\n",
       "     track_name_prev_y  type_y  \n",
       "1             track_19  artist  \n",
       "266            track_2  artist  \n",
       "355            track_3  artist  \n",
       "393           track_67  artist  \n",
       "449           track_46  artist  \n",
       "516           track_17  artist  \n",
       "578            track_9  artist  \n",
       "580            track_9  artist  \n",
       "641           track_17  artist  \n",
       "\n",
       "[9 rows x 41 columns]"
      ]
     },
     "execution_count": 10,
     "metadata": {},
     "output_type": "execute_result"
    }
   ],
   "source": [
    "recommender.recommend_songs('5qljLQuKnNJf4F4vfxQB0V', 10)"
   ]
  }
 ],
 "metadata": {
  "kernelspec": {
   "display_name": "base",
   "language": "python",
   "name": "python3"
  },
  "language_info": {
   "codemirror_mode": {
    "name": "ipython",
    "version": 3
   },
   "file_extension": ".py",
   "mimetype": "text/x-python",
   "name": "python",
   "nbconvert_exporter": "python",
   "pygments_lexer": "ipython3",
   "version": "3.9.12"
  },
  "orig_nbformat": 4
 },
 "nbformat": 4,
 "nbformat_minor": 2
}
